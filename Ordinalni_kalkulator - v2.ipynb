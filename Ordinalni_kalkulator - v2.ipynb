{
 "cells": [
  {
   "cell_type": "markdown",
   "metadata": {},
   "source": [
    "# Ordinalni kalkulator"
   ]
  },
  {
   "cell_type": "code",
   "execution_count": 149,
   "metadata": {},
   "outputs": [],
   "source": [
    "from functools import total_ordering\n",
    "from collections import Counter\n",
    "import copy\n",
    "\n",
    "\n",
    "@total_ordering\n",
    "class Ordinal():\n",
    "    \"\"\" Klasa koja reprezentira ordinale u Cantorovoj normalnoj formi. \"\"\"\n",
    "    \n",
    "    def __init__(self, arg):\n",
    "        \"\"\"\n",
    "        Konstruktor ordinala.\n",
    "        Argumenti:\n",
    "        arg -- prirodni broj ili lista parova (alfa,b) gdje je alfa Ordinal, a b prirodni broj\n",
    "        \"\"\"\n",
    "        if isinstance(arg, int):\n",
    "            if arg >= 0:\n",
    "                arg = [(Ordinal.zero, arg)]\n",
    "            else:\n",
    "                raise ValueError(\"Ordinal ne može biti negativan broj\")\n",
    "        summands = arg\n",
    "        self.summands = []\n",
    "        \n",
    "        for exp, coef in summands:\n",
    "            if not isinstance(coef, int) or coef < 0:\n",
    "                raise ValueError(\"Koeficijent mora biti prirodni broj\")\n",
    "\n",
    "            if not isinstance(exp, Ordinal):\n",
    "                raise ValueError(\"Eksponent mora biti Ordinal\")\n",
    "\n",
    "            if coef > 0:\n",
    "                self.summands.append((exp,coef))\n",
    "    \n",
    "    @classmethod\n",
    "    def coerce(cls, arg):\n",
    "        \"\"\"\n",
    "        Prima bilo kakav objekt i ako je moguće pretvara ga u Ordinal.\n",
    "        Argumenti koji su prhvatljivi za pretvorbu:\n",
    "        arg -- prirodni broj ili Ordinal\n",
    "        \"\"\"\n",
    "        if isinstance(arg, int) and arg >= 0:\n",
    "            return cls(arg)\n",
    "        else:\n",
    "            return arg\n",
    "            \n",
    "        \n",
    "    @classmethod\n",
    "    def fromnat(cls, n):\n",
    "        \"\"\" Pretvara obični prirodan broj iz tipa int u tip Ordinal. \"\"\"\n",
    "        if not isinstance(n, int) or n < 0:\n",
    "                raise ValueError(\"Argument funkcije mora biti prirodni broj\")\n",
    "        return cls([(Ordinal.zero, n)])\n",
    "    \n",
    "    #! Sljedeće dvije funkcije su mi totalno čudni interfejs za sumande, mislim da sam o tome već pričao. \n",
    "    #! Koliko vidim, jedini kontekst u kojem ih pozivate je prvo s argumentom 0, pa onda svaki sljedeći poziv sa\n",
    "    #! za jedan većim argumentom. Python to puno čišće opisuje _iteratorima_. \n",
    "    #! for coef, exp in self.cnf():, ili it = self.cnf(), pa onda kad Vam zatreba sljedeći par: coef, exp = next(it)\n",
    "    #! Naravno, možete imati i dva nezavisna iteratora, ali koliko vidim, ionako Vam koeficijent i eksponent uvijek\n",
    "    #! trebaju u paru.\n",
    "    \n",
    "    #! Alternativno, (mislim da sam i o tome već pričao) ako su Vam iteratori prekomplicirani, mislim da bi imalo smisla\n",
    "    #! reprezentirati Ordinal kao listu parova [(exp, coef), (exp, coef), ...] sortiranih obrnuto po eksponentima.\n",
    "    #! To efektivno imate s ovim donjim list(dict(sorted(.items()))), samo nema smisla sortirati svaki put iznova, pobogu.\n",
    "    #! Dobra stvar je da onda uređaj bude doslovno pythonov < na takvim listama (leksikografski).\n",
    "    \n",
    "    #! Loša vijest je da Vam ipak tu i tamo treba nekakav dict-access iz ključeva u vrijednosti. Ali ovako na prvi pogled,\n",
    "    #! jedino vidim da vadite ključeve 0 i 1 (odnosno Ordinal.zero i Ordinal.one:). Ako i ne, daleko je manje posla\n",
    "    #! _tu_ imati linearni search po listi parova nego sort svaki put kad vadite bilo koji coef ili exp po rednom broju.\n",
    "    \n",
    "    def __getitem__(self, key):\n",
    "        for exp, coef in self.summands:\n",
    "            if exp == key:\n",
    "                return coef\n",
    "        return 0\n",
    "        \n",
    "    def __setitem__(self, key, value):\n",
    "        if value == 0:\n",
    "            return\n",
    "        \n",
    "        for i, (exp, coef) in enumerate(self.summands):\n",
    "            if exp == key:\n",
    "                self.summands[i] = (key, value)\n",
    "                return\n",
    "        \n",
    "        self.summands.append((key, value))\n",
    "        self.summands.sort(reverse=True)\n",
    "    \n",
    "    \n",
    "    @property\n",
    "    def is_successor(self):\n",
    "        \"\"\"\n",
    "        Funkcija koja određuje je li ordinal sljedbenik.\n",
    "        Pomoću toga se može odrediti i je li granični ordinal sa \"not alfa.is_successor\", gdje je alfa Ordinal.\n",
    "        \"\"\"\n",
    "        return self[Ordinal.zero] != 0\n",
    "\n",
    "    @staticmethod\n",
    "    def _make_string(exp,coef):\n",
    "        \"\"\" Pretvara sumand u latex izraz. \"\"\"\n",
    "        s = ''\n",
    "        if exp == 0:\n",
    "            return s + str(coef)\n",
    "        if exp < Ordinal.omega:\n",
    "            exp = exp.summands[0][1]\n",
    "\n",
    "        if exp == 0:\n",
    "            s += str(coef)\n",
    "        elif coef == 0:\n",
    "            s += \"0\"\n",
    "        else:\n",
    "            s += \"\\omega\"\n",
    "            \n",
    "            if isinstance(exp, int) and exp > 1:\n",
    "                s += '^{' + str(exp) + '}'\n",
    "            elif isinstance(exp, Ordinal):\n",
    "                s += '^{'\n",
    "                if exp != Ordinal.omega:\n",
    "                    s += '('\n",
    "                s += str(exp)\n",
    "                if exp != Ordinal.omega:\n",
    "                    s += ')'\n",
    "                s += '}'\n",
    "            if coef != 1:\n",
    "                s += '\\cdot' + str(coef)\n",
    "        return s\n",
    "    \n",
    "    def __str__(self):\n",
    "        if self == 0:\n",
    "            return '0'\n",
    "        summands = [self._make_string(exp,coef) for exp,coef in self.summands]\n",
    "        return ' + '.join(summands)\n",
    "    \n",
    "    @staticmethod\n",
    "    def _make_direct_str(exp,coef):\n",
    "        \"\"\" Pretvara sumand u python izraz. \"\"\"\n",
    "        s = ''\n",
    "        if exp == 0:\n",
    "            return s + repr(coef)\n",
    "        if exp < Ordinal.omega:\n",
    "            exp = exp.summands[0][1]\n",
    "\n",
    "        if exp == 0:\n",
    "            s += repr(coef)\n",
    "        elif coef == 0:\n",
    "            s += \"0\"\n",
    "        else:\n",
    "            s += \"w\"\n",
    "            \n",
    "            if isinstance(exp, int) and exp != 1:\n",
    "                s += '**' + repr(exp)\n",
    "            elif isinstance(exp, Ordinal):\n",
    "                s += '**'\n",
    "                if exp != Ordinal.omega:\n",
    "                    s += '('\n",
    "                s += repr(exp)\n",
    "                if exp != Ordinal.omega:\n",
    "                    s += ')'\n",
    "            if coef != 1:\n",
    "                s += '*' + repr(coef)\n",
    "        return s\n",
    "    \n",
    "    def __repr__(self):\n",
    "        summands = [self._make_direct_str(exp,coef) for exp,coef in self.summands]\n",
    "        return ' + '.join(summands)\n",
    "    \n",
    "    def _repr_latex_(self):\n",
    "        return r\"$%s$\" % str(self)\n",
    "    \n",
    "    def __bool__(self):\n",
    "        return self != Ordinal.zero\n",
    "    \n",
    "    def __eq__(self, other):\n",
    "        if isinstance(other, int):\n",
    "            other = Ordinal(other)\n",
    "\n",
    "        if isinstance(other, Ordinal):\n",
    "            return self.summands == other.summands\n",
    "        else:\n",
    "            return False\n",
    "\n",
    "    def __lt__(self, other):\n",
    "        if isinstance(other, int):\n",
    "            other = Ordinal(other)\n",
    "            \n",
    "        if isinstance(other, Ordinal):\n",
    "            i = 0\n",
    "            j = 0\n",
    "\n",
    "            while i < len(self.summands) and j < len(other.summands):\n",
    "                coef1 = self.summands[i][1]\n",
    "                coef2 = other.summands[j][1]\n",
    "                exp1 = self.summands[i][0]\n",
    "                exp2 = other.summands[j][0]\n",
    "\n",
    "                if exp1 > exp2:\n",
    "                    return False\n",
    "                elif exp2 > exp1:\n",
    "                    return True\n",
    "                else:\n",
    "                    if coef1 > coef2:\n",
    "                        return False\n",
    "                    elif coef2 > coef1:\n",
    "                        return True\n",
    "\n",
    "                i += 1\n",
    "                j += 1\n",
    "\n",
    "            if i >= len(self.summands):\n",
    "                if j >= len(other.summands):\n",
    "                    return False\n",
    "                return True\n",
    "            else:\n",
    "                return False\n",
    "        else:\n",
    "            return NotImplemented\n",
    "    \n",
    "    def __hash__(self):\n",
    "        return hash((Ordinal, frozenset(self.summands)))\n",
    "    \n",
    "    def __add__(self, other):\n",
    "        \"\"\"\n",
    "        Računa sumu ordinala self + other zadržavajući u CNF.\n",
    "        Argumenti:\n",
    "        self -- Ordinal\n",
    "        other -- prirodni broj ili Ordinal\n",
    "        \"\"\"\n",
    "        other = Ordinal.coerce(other)\n",
    "        \n",
    "        if not isinstance(other, Ordinal):\n",
    "            return NotImplemented\n",
    "                \n",
    "        if self == 0:\n",
    "            return other\n",
    "        if other == 0:\n",
    "            return self\n",
    "                \n",
    "        i = 0\n",
    "        j = 0\n",
    "        \n",
    "        exp1 = self.summands[i][0]\n",
    "        exp2 = other.summands[j][0]\n",
    "        \n",
    "        \n",
    "        result = Ordinal([])\n",
    "        \n",
    "        while exp1 > exp2:\n",
    "            coef1 = self.summands[i][1]\n",
    "            result[exp1] = coef1\n",
    "            i += 1\n",
    "            \n",
    "            if i >= len(self.summands):\n",
    "                break\n",
    "\n",
    "            exp1 = self.summands[i][0]\n",
    "            \n",
    "        \n",
    "        resultCoef = other.summands[j][1]\n",
    "        if i < len(self.summands) and exp1 == exp2:\n",
    "            resultCoef += self.summands[i][1]\n",
    "        \n",
    "        result[exp2] = resultCoef\n",
    "\n",
    "        j += 1\n",
    "        while j < len(other.summands):\n",
    "            exp2 = other.summands[j][0]\n",
    "            result[exp2] = other[exp2]\n",
    "            j += 1\n",
    "            \n",
    "        return result\n",
    "\n",
    "    def __radd__(self, other):\n",
    "        \"\"\"\n",
    "        Računa sumu ordinala other + self zadržavajući u CNF.\n",
    "        Argumenti:\n",
    "        self -- Ordinal\n",
    "        other -- prirodni broj\n",
    "        \"\"\"\n",
    "        other = Ordinal.coerce(other)\n",
    "        \n",
    "        if not isinstance(other, Ordinal):\n",
    "            return NotImplemented\n",
    "        \n",
    "        return other + self\n",
    "    \n",
    "    def __sub__(self, other):\n",
    "        \"\"\"\n",
    "        Računa razliku ordinala self - other zadržavajući u CNF.\n",
    "        Mora vrijediti self >= other.\n",
    "        Argumenti:\n",
    "        self -- Ordinal\n",
    "        other -- prirodni broj ili Ordinal\n",
    "        \"\"\"\n",
    "        other = Ordinal.coerce(other)\n",
    "        \n",
    "        if not isinstance(other, Ordinal):\n",
    "            return NotImplemented\n",
    "                \n",
    "        if self < other:\n",
    "            raise ArithmeticError(\"Ne može se oduzeti ordinal od strogo manjeg ordinala.\")\n",
    "        if not other:\n",
    "            return self\n",
    "        \n",
    "        # self >= other > 0\n",
    "                \n",
    "        i = 0\n",
    "        \n",
    "        exp1 = self.summands[i][0]\n",
    "        exp2 = other.summands[i][0]\n",
    "        \n",
    "        \n",
    "        result = Ordinal([])\n",
    "        \n",
    "        while exp1 == exp2:\n",
    "            coef1 = self.summands[i][1]\n",
    "            coef2 = other.summands[i][1]\n",
    "                \n",
    "            result[exp1] = coef1 - coef2\n",
    "            i += 1\n",
    "            \n",
    "            if coef1 != coef2:\n",
    "                break\n",
    "            \n",
    "            if i >= len(self.summands) or i >= len(other.summands):\n",
    "                break\n",
    "\n",
    "            exp1 = self.summands[i][0]\n",
    "            exp2 = other.summands[i][0]\n",
    "            \n",
    "\n",
    "        while i < len(self.summands):\n",
    "            exp1 = self.summands[i][0]\n",
    "            result[exp1] = self[exp1]\n",
    "            i += 1\n",
    "            \n",
    "        return result\n",
    "    \n",
    "    def __rsub__(self, other):\n",
    "        \"\"\"\n",
    "        Računa razliku ordinala other - self zadržavajući u CNF.\n",
    "        Mora vrijediti other >= self.\n",
    "        Argumenti:\n",
    "        self -- Ordinal\n",
    "        other -- prirodni broj\n",
    "        \"\"\"\n",
    "        other = Ordinal.coerce(other)\n",
    "        \n",
    "        if not isinstance(other, Ordinal):\n",
    "            return NotImplemented\n",
    "        \n",
    "        return other - self\n",
    "            \n",
    "    def __mul__(self, other):\n",
    "        \"\"\"\n",
    "        Računa produkt ordinala self * other zadržavajući u CNF.\n",
    "        Argumenti:\n",
    "        self -- Ordinal\n",
    "        other -- prirodni broj ili Ordinal\n",
    "        \"\"\"\n",
    "        other = Ordinal.coerce(other)\n",
    "        \n",
    "        if not isinstance(other, Ordinal):\n",
    "            return NotImplemented\n",
    "\n",
    "        if self == 0 or other == 0:\n",
    "            return Ordinal.zero\n",
    "        \n",
    "        i = 0\n",
    "        j = 0\n",
    "        \n",
    "        exp1 = self.summands[i][0]\n",
    "        exp2 = other.summands[j][0]\n",
    "        \n",
    "        result = Ordinal([])\n",
    "        \n",
    "        while exp2 > 0:\n",
    "            resultExp = exp1 + exp2\n",
    "            result[resultExp] += other.summands[j][1]\n",
    "            j += 1\n",
    "            \n",
    "            if j >= len(other.summands):\n",
    "                break\n",
    "                \n",
    "            exp2 = other.summands[j][0]\n",
    "        \n",
    "        if j < len(other.summands):\n",
    "            resultCoef = other.summands[j][1] * self.summands[i][1]\n",
    "            result[exp1] += resultCoef\n",
    "            \n",
    "            i += 1\n",
    "            while i < len(self.summands):\n",
    "                exp1 = self.summands[i][0]\n",
    "                result[exp1] += self[exp1]\n",
    "                i += 1\n",
    "            \n",
    "        return result\n",
    "\n",
    "    def __rmul__(self, other):\n",
    "        \"\"\"\n",
    "        Računa produkt ordinala other * self zadržavajući u CNF.\n",
    "        Argumenti:\n",
    "        self -- Ordinal\n",
    "        other -- prirodni broj\n",
    "        \"\"\"\n",
    "        other = Ordinal.coerce(other)\n",
    "        \n",
    "        if not isinstance(other, Ordinal):\n",
    "            return NotImplemented\n",
    "        \n",
    "        return other * self\n",
    "    \n",
    "    def __floordiv__(self, other):\n",
    "        \"\"\"\n",
    "        Računa self // other, odnosno količnik ordinala self / other zadržavajući u CNF.\n",
    "        Argumenti:\n",
    "        self -- Ordinal\n",
    "        other -- prirodni broj ili Ordinal različiti od nula\n",
    "        \"\"\"\n",
    "        other = Ordinal.coerce(other)\n",
    "        \n",
    "        if not isinstance(other, Ordinal):\n",
    "            return NotImplemented\n",
    "\n",
    "        if not other:\n",
    "            raise ZeroDivisionError('Dijeljenje sa ordinalom nula nije moguće.')\n",
    "        \n",
    "        if self < other:\n",
    "            return Ordinal.zero\n",
    "        elif self == other:\n",
    "            return Ordinal.one\n",
    "        \n",
    "        i = 0\n",
    "        j = 0\n",
    "        \n",
    "        exp1 = self.summands[i][0]\n",
    "        exp2 = other.summands[j][0]\n",
    "        \n",
    "        result = Ordinal([])\n",
    "        \n",
    "        while exp1 > exp2:\n",
    "            resultExp = exp1 - exp2\n",
    "            result[resultExp] += self.summands[i][1]\n",
    "            i += 1\n",
    "            \n",
    "            if i >= len(self.summands):\n",
    "                break\n",
    "                \n",
    "            exp1 = self.summands[i][0]\n",
    "            \n",
    "        \n",
    "        if exp1 == exp2:\n",
    "            coef1 = self.summands[i][1]\n",
    "            coef2 = other.summands[j][1]\n",
    "\n",
    "            if coef1 > coef2:\n",
    "                resultCoef = coef1 // coef2\n",
    "                result[Ordinal.zero] += resultCoef\n",
    "                \n",
    "            \n",
    "        return result\n",
    "\n",
    "    def __rfloordiv__(self, other):\n",
    "        \"\"\"\n",
    "        Računa other // self, odnosno količnik ordinala other / self zadržavajući u CNF.\n",
    "        Argumenti:\n",
    "        self -- Ordinal\n",
    "        other -- prirodni broj različiti od nula\n",
    "        \"\"\"\n",
    "        other = Ordinal.coerce(other)\n",
    "        \n",
    "        if not isinstance(other, Ordinal):\n",
    "            return NotImplemented\n",
    "        \n",
    "        return other // self\n",
    "    \n",
    "    def __mod__(self, other):\n",
    "        \"\"\"\n",
    "        Računa self % other, odnosno ostatak dijeljenja ordinala self / other zadržavajući u CNF.\n",
    "        Argumenti\n",
    "        self -- Ordinal\n",
    "        other -- prirodni broj ili Ordinal različiti od nula\n",
    "        \"\"\"\n",
    "        return self - other * (self // other)\n",
    "    \n",
    "    def __rmod__(self, other):\n",
    "        \"\"\"\n",
    "        Računa other % self, odnosno ostatak dijeljenja ordinala other / self zadržavajući u CNF.\n",
    "        Argumenti\n",
    "        self -- Ordinal\n",
    "        other -- prirodni broj različiti od nula\n",
    "        \"\"\"\n",
    "        other = Ordinal.coerce(other)\n",
    "        \n",
    "        if not isinstance(other, Ordinal):\n",
    "            return NotImplemented\n",
    "        \n",
    "        return other % self\n",
    "    \n",
    "    def __truediv__(self, other):\n",
    "        \"\"\"\n",
    "        Računa količnik i ostatak dijeljenja self / other zadržavajući u CNF.\n",
    "        Argumenti:\n",
    "        self -- Ordinal\n",
    "        other -- prirodni broj ili Ordinal različiti od nula\n",
    "        \"\"\"\n",
    "        q = self // other\n",
    "        r = self - other*q\n",
    "        return q,r\n",
    "    \n",
    "    def __rtruediv__(self, other):\n",
    "        \"\"\"\n",
    "        Računa količnik i ostatak dijeljenja other / self zadržavajući u CNF.\n",
    "        Argumenti\n",
    "        self -- Ordinal\n",
    "        other -- prirodni broj različiti od nula\n",
    "        \"\"\"\n",
    "        q = other // self\n",
    "        r = other - self*q\n",
    "        return q,r\n",
    "            \n",
    "    def __pow__(self, other):\n",
    "        \"\"\"\n",
    "        Računa rezultat potenciranja ordinala self ^ other zadržavajući u CNF.\n",
    "        Argumenti:\n",
    "        self -- Ordinal\n",
    "        other -- prirodni broj ili Ordinal\n",
    "        \"\"\"\n",
    "        other = Ordinal.coerce(other)\n",
    "        \n",
    "        if not isinstance(other, Ordinal):\n",
    "            return NotImplemented\n",
    "        \n",
    "        natTerm = False #ima li other = w^a1*n1+...+w^ak*nk u cnf zapisu ak=0\n",
    "        \n",
    "        if other == 0:\n",
    "            return Ordinal.one\n",
    "        \n",
    "        if self == 0:\n",
    "            return Ordinal.zero\n",
    "        \n",
    "        if other < Ordinal.omega:\n",
    "            if self < Ordinal.omega:\n",
    "                # self < omega, other < omega\n",
    "                result = self[Ordinal.zero] ** other[Ordinal.zero]\n",
    "\n",
    "            else:\n",
    "                # self >= omega, other < omega\n",
    "                coef2 = other.summands[0][1]\n",
    "                \n",
    "                if coef2 == 0:\n",
    "                    return Ordinal.one\n",
    "                if coef2 == 1:\n",
    "                    return self\n",
    "                \n",
    "                i = 0\n",
    "                j = 0\n",
    "                result = Ordinal([])\n",
    "                \n",
    "                exp1 = self.summands[0][0]\n",
    "                coef1 = self.summands[0][1]\n",
    "                \n",
    "                tmp = exp1*(coef2-1)\n",
    "                \n",
    "                while True:\n",
    "                    if exp1 == 0:\n",
    "                        break\n",
    "                        \n",
    "                    tmpExp = tmp + exp1\n",
    "                    result[tmpExp] = coef1\n",
    "                    i += 1\n",
    "                    \n",
    "                    if i >= len(self.summands):\n",
    "                        break\n",
    "                        \n",
    "                    exp1 = self.summands[i][0]\n",
    "                    coef1 = self.summands[i][1]\n",
    "                    \n",
    "                if exp1 == 0:\n",
    "                    if coef1 > 0:\n",
    "                        tmpCoef = self.summands[0][1] * coef1;\n",
    "\n",
    "                        for j in range(1,coef2):\n",
    "                            tmpExp =  self.summands[0][0] * (coef2-j)\n",
    "                            result[tmpExp] = tmpCoef\n",
    "                            \n",
    "                            i = 1\n",
    "                            while i < len(self.summands)-1:\n",
    "                                exp1 = self.summands[i][0]\n",
    "                                coef1 = self.summands[i][1]\n",
    "\n",
    "                                tmpExp =  self.summands[0][0] * (coef2-j-1)\n",
    "\n",
    "                                if tmpExp == 0:\n",
    "                                    return Ordinal.zero\n",
    "\n",
    "                                tmpExp = tmpExp + exp1\n",
    "\n",
    "                                if tmpExp == 0:\n",
    "                                    return Ordinal.zero\n",
    "                                result[tmpExp] = coef1\n",
    "                                i += 1\n",
    "\n",
    "                        result[Ordinal.zero] = coef1\n",
    "                    \n",
    "        else:\n",
    "            if self == 0:\n",
    "                result = 0\n",
    "            elif self == 1:\n",
    "                result = 1\n",
    "            elif self < Ordinal.omega:\n",
    "                # 1 < self < omega, other >= omega\n",
    "                result = Ordinal([])\n",
    "                tmp = Ordinal([])\n",
    "\n",
    "                for i in range(len(other.summands)):\n",
    "                        exp2 = other.summands[i][0]\n",
    "                        coef2 = other.summands[i][1]\n",
    "                        if exp2:\n",
    "                            if exp2 < Ordinal.omega:\n",
    "                                    exp2 = Ordinal(exp2.summands[0][1] - 1)\n",
    "                            tmp[exp2] = coef2;\n",
    "                        else:\n",
    "                            natTerm = True\n",
    "\n",
    "                if natTerm == True:\n",
    "                    resCoef = self.summands[0][1] ** coef2;\n",
    "                else:\n",
    "                    resCoef = 1;\n",
    "\n",
    "                result[tmp] = resCoef\n",
    "            else:\n",
    "                # self >= omega, other >= omega\n",
    "                exp1 = self.summands[0][0]\n",
    "                \n",
    "                result = Ordinal([])\n",
    "                tmp = Ordinal([])\n",
    "\n",
    "                for i in range(len(other.summands)):\n",
    "                        exp2 = other.summands[i][0]\n",
    "                        coef2 = other.summands[i][1]\n",
    "                        if exp2:\n",
    "                            tmp[exp2] = coef2\n",
    "                        else:\n",
    "                            natTerm = True\n",
    "\n",
    "                tmpExp = exp1*tmp\n",
    "                if tmpExp == 0:\n",
    "                    return Ordinal.zero\n",
    "                result[tmpExp] = 1\n",
    "                \n",
    "                \n",
    "                if natTerm == True:\n",
    "                    tmp2 = self ** coef2\n",
    "                    return result * tmp2\n",
    "\n",
    "        return result\n",
    "    \n",
    "    def __rpow__(self, other):\n",
    "        \"\"\"\n",
    "        Računa rezultat potenciranja ordinala other ^ self zadržavajući u CNF.\n",
    "        Argumenti:\n",
    "        self -- Ordinal\n",
    "        other -- prirodni broj\n",
    "        \"\"\"\n",
    "        other = Ordinal.coerce(other)\n",
    "        \n",
    "        if not isinstance(other, Ordinal):\n",
    "            return NotImplemented\n",
    "        \n",
    "        return other ** self\n",
    "            \n",
    "    \n",
    "    def Isummation(alfa_k,beta):\n",
    "        \"\"\"\n",
    "        Funkcija računa sumu izraza alfa_k koji predstavlja ordinal do granice beta = w*i1+i0.\n",
    "        Ovo je heuristička metoda koja daje točan izraz u većini slučajeva, no ne uvijek.\n",
    "        Argumenti:\n",
    "        alfa_k -- lambda izraz koji ovisi o k te uvrštavanjem nekog Ordinala k postaje Ordinal\n",
    "        beta -- prirodni broj ili Ordinal\n",
    "        \"\"\"\n",
    "        #! Nemam ništa protiv da ovo ostane kao nekakva heuristika, ali treba dokumentirati da nije egzaktno\n",
    "        #! (za razliku od osnovnih operacija, koje bi morale biti egzaktne).\n",
    "        \n",
    "        beta = Ordinal.coerce(beta)\n",
    "        if not isinstance(beta, Ordinal):\n",
    "            return NotImplemented\n",
    "        \n",
    "        sum = Ordinal.zero\n",
    "        \n",
    "        for i in range(beta[Ordinal.one]):\n",
    "            alfa_fp2 = Ordinal.coerce(alfa_k(Ordinal.omega*i+2))\n",
    "            \n",
    "            if alfa_fp2:\n",
    "                sumExp = alfa_fp2.summands[0][0]+1\n",
    "                sum = sum + Ordinal([(sumExp,1)])\n",
    "            \n",
    "        tmp = Ordinal.omega*beta[Ordinal.one]\n",
    "        if beta[Ordinal.zero] != 0:\n",
    "            sum = sum + alfa_k(tmp+0)\n",
    "            for i in range(1,beta[Ordinal.zero]):\n",
    "                sum = sum + alfa_k(tmp+i)\n",
    "        \n",
    "        return sum\n",
    "        \n",
    "    def Iproduct(alfa_k,beta):\n",
    "        \"\"\"\n",
    "        Funkcija računa umnožak izraza alfa_k koji predstavlja ordinal do granice beta = w*i1+i0.\n",
    "        Ovo je heuristička metoda koja daje točan izraz u većini slučajeva, no ne uvijek.\n",
    "        Argumenti:\n",
    "        alfa_k -- lambda izraz koji ovisi o k te uvrštavanjem nekog Ordinala k postaje Ordinal\n",
    "        beta -- prirodni broj ili Ordinal\n",
    "        \"\"\"\n",
    "        beta = Ordinal.coerce(beta)\n",
    "        if not isinstance(beta, Ordinal):\n",
    "            return NotImplemented\n",
    "        \n",
    "        prod = Ordinal.one\n",
    "        \n",
    "        if not Ordinal.coerce(alfa_k(0)):\n",
    "            return Ordinal.zero\n",
    "        \n",
    "        for i in range(beta[Ordinal.one]):\n",
    "            alfa_fp2 = Ordinal.coerce(alfa_k(Ordinal.omega*i+2))\n",
    "            \n",
    "            if alfa_fp2 == Ordinal.zero:\n",
    "                prod = 0\n",
    "            elif alfa_fp2 != Ordinal.one:\n",
    "                if alfa_fp2 < Ordinal.omega:\n",
    "                    prodExp = Ordinal.one\n",
    "                else:\n",
    "                    prodExp = alfa_fp2.summands[0][0] * Ordinal.omega\n",
    "\n",
    "                prod = prod*Ordinal([(prodExp,1)])\n",
    "            \n",
    "        tmp = Ordinal.omega*beta[Ordinal.one]\n",
    "        if beta[Ordinal.zero] != 0:\n",
    "            prod = prod*alfa_k(tmp+0)\n",
    "            for i in range(1,beta[Ordinal.zero]):\n",
    "                prod = prod*alfa_k(tmp+i)\n",
    "        \n",
    "        return prod\n",
    "\n",
    "\n",
    "Ordinal.zero = Ordinal([])\n",
    "Ordinal.one = Ordinal([(Ordinal.zero,1)])\n",
    "Ordinal.omega = Ordinal([(Ordinal.one,1)])"
   ]
  },
  {
   "cell_type": "markdown",
   "metadata": {},
   "source": [
    "## Testiranje"
   ]
  },
  {
   "cell_type": "code",
   "execution_count": 150,
   "metadata": {},
   "outputs": [],
   "source": [
    "w = Ordinal.omega\n",
    "r = Ordinal([(w,3),(Ordinal.one,1)])\n",
    "t = Ordinal(3)\n",
    "o = Ordinal([(w,3),(Ordinal.one,1)])\n",
    "p = Ordinal([(o,1),(Ordinal.zero,1)])"
   ]
  },
  {
   "cell_type": "code",
   "execution_count": 151,
   "metadata": {},
   "outputs": [],
   "source": [
    "assert o.is_successor == False\n",
    "assert p.is_successor == True\n",
    "\n",
    "assert (p == o) == False\n",
    "assert (o < p) == True\n",
    "assert (w < p) == True\n",
    "assert (w > p) == False\n",
    "assert (p == w) == False\n",
    "assert (w > 1) == True\n",
    "\n",
    "q = Ordinal([(Ordinal.zero,3)])\n",
    "assert q < w\n",
    "assert q > 2\n",
    "\n",
    "test1add = Ordinal([(Ordinal([(Ordinal([(Ordinal.one,1)]),3),(Ordinal.one,1)]),1),(Ordinal.zero,1)])\n",
    "assert o + p == test1add\n",
    "\n",
    "test2add = Ordinal([(Ordinal([(Ordinal([(Ordinal.one,1)]),3),(Ordinal.one,1)]),1),(Ordinal([(Ordinal.one,1)]),3),(Ordinal.one,1)])\n",
    "assert p + o == test2add\n",
    "\n",
    "test3sum = Ordinal([(o,1),(Ordinal.zero,4)])\n",
    "assert p + 3 == test3sum\n",
    "\n",
    "test1mul = Ordinal([(w,6),(Ordinal.one,1)])\n",
    "assert o * 2 == test1mul\n",
    "\n",
    "test2mul = Ordinal([(Ordinal([(Ordinal([(Ordinal.one,1)]),3),(Ordinal.one,2)]),3),(Ordinal([(Ordinal([(Ordinal.one,1)]),3),(Ordinal.one,1),(Ordinal.zero,1)]),1)])\n",
    "assert p * o == test2mul\n",
    "\n",
    "test1exp = Ordinal([(Ordinal([(Ordinal.one,1),(Ordinal.zero,1)]),1),(w,1)])\n",
    "assert (w+1) ** (w+1) == test1exp\n",
    "\n",
    "test2exp = Ordinal([(Ordinal([(w,3),(Ordinal.zero,1)]),1)])\n",
    "assert 2 ** o == test2exp\n",
    "\n",
    "test3exp = Ordinal([(Ordinal([(w,3),(Ordinal(2),1)]),1)])\n",
    "assert o ** o == test3exp"
   ]
  },
  {
   "cell_type": "code",
   "execution_count": 147,
   "metadata": {},
   "outputs": [],
   "source": [
    "#def __getitem__(self, key):\n",
    "#    try:\n",
    "#        i = [x[0] for x in self.summands].index(key)\n",
    "#        return self.summands[i][1]\n",
    "#    except ValueError:\n",
    "#        return 0\n",
    "#\n",
    "#def __setitem__(self, key, value):\n",
    "#    try:\n",
    "#        i = [x[0] for x in self.summands].index(key)\n",
    "#        self.summands[i] = (key,value)\n",
    "#    except ValueError:\n",
    "#        self.summands.append((key,value))"
   ]
  },
  {
   "cell_type": "code",
   "execution_count": 131,
   "metadata": {},
   "outputs": [
    {
     "data": {
      "text/latex": [
       "$\\omega^{3}\\cdot2 + \\omega + 4$"
      ],
      "text/plain": [
       "w**3*2 + w + 4"
      ]
     },
     "execution_count": 131,
     "metadata": {},
     "output_type": "execute_result"
    }
   ],
   "source": [
    "a = w**w*3 + w**3*5 + w + 4\n",
    "b = w**w*3 + w**3*3 + 2\n",
    "c = a - b\n",
    "c"
   ]
  },
  {
   "cell_type": "code",
   "execution_count": 132,
   "metadata": {},
   "outputs": [
    {
     "data": {
      "text/plain": [
       "True"
      ]
     },
     "execution_count": 132,
     "metadata": {},
     "output_type": "execute_result"
    }
   ],
   "source": [
    "b + c == a"
   ]
  },
  {
   "cell_type": "code",
   "execution_count": 133,
   "metadata": {},
   "outputs": [
    {
     "data": {
      "text/latex": [
       "$0$"
      ],
      "text/plain": []
     },
     "execution_count": 133,
     "metadata": {},
     "output_type": "execute_result"
    }
   ],
   "source": [
    "a = w**w + w**3*2 + w**2*5 + 4\n",
    "b = w**2*4 + w*7 + 5\n",
    "q = b // a\n",
    "q"
   ]
  },
  {
   "cell_type": "code",
   "execution_count": 134,
   "metadata": {},
   "outputs": [
    {
     "data": {
      "text/latex": [
       "$\\omega^{2}\\cdot4 + \\omega\\cdot7 + 5$"
      ],
      "text/plain": [
       "w**2*4 + w*7 + 5"
      ]
     },
     "execution_count": 134,
     "metadata": {},
     "output_type": "execute_result"
    }
   ],
   "source": [
    "r = b % a\n",
    "r"
   ]
  },
  {
   "cell_type": "code",
   "execution_count": 135,
   "metadata": {},
   "outputs": [
    {
     "data": {
      "text/plain": [
       "True"
      ]
     },
     "execution_count": 135,
     "metadata": {},
     "output_type": "execute_result"
    }
   ],
   "source": [
    "a*q+r == r"
   ]
  },
  {
   "cell_type": "code",
   "execution_count": 136,
   "metadata": {},
   "outputs": [
    {
     "data": {
      "text/latex": [
       "$\\omega^{\\omega} + \\omega\\cdot2 + 1$"
      ],
      "text/plain": [
       "w**w + w*2 + 1"
      ]
     },
     "execution_count": 136,
     "metadata": {},
     "output_type": "execute_result"
    }
   ],
   "source": [
    "q = a // b\n",
    "q"
   ]
  },
  {
   "cell_type": "code",
   "execution_count": 137,
   "metadata": {},
   "outputs": [
    {
     "data": {
      "text/latex": [
       "$\\omega^{2} + 4$"
      ],
      "text/plain": [
       "w**2 + 4"
      ]
     },
     "execution_count": 137,
     "metadata": {},
     "output_type": "execute_result"
    }
   ],
   "source": [
    "r = a % b\n",
    "r"
   ]
  },
  {
   "cell_type": "code",
   "execution_count": 80,
   "metadata": {},
   "outputs": [
    {
     "data": {
      "text/plain": [
       "True"
      ]
     },
     "execution_count": 80,
     "metadata": {},
     "output_type": "execute_result"
    }
   ],
   "source": [
    "b*q+r == a"
   ]
  },
  {
   "cell_type": "code",
   "execution_count": 64,
   "metadata": {},
   "outputs": [
    {
     "data": {
      "text/plain": [
       "True"
      ]
     },
     "execution_count": 64,
     "metadata": {},
     "output_type": "execute_result"
    }
   ],
   "source": [
    "r < b"
   ]
  },
  {
   "cell_type": "code",
   "execution_count": 65,
   "metadata": {},
   "outputs": [
    {
     "data": {
      "text/plain": [
       "(2, )"
      ]
     },
     "execution_count": 65,
     "metadata": {},
     "output_type": "execute_result"
    }
   ],
   "source": [
    "8 / Ordinal(4)"
   ]
  },
  {
   "cell_type": "code",
   "execution_count": 66,
   "metadata": {},
   "outputs": [
    {
     "data": {
      "text/latex": [
       "$0$"
      ],
      "text/plain": []
     },
     "execution_count": 66,
     "metadata": {},
     "output_type": "execute_result"
    }
   ],
   "source": [
    "8 % Ordinal(4)"
   ]
  },
  {
   "cell_type": "code",
   "execution_count": 67,
   "metadata": {},
   "outputs": [
    {
     "name": "stdout",
     "output_type": "stream",
     "text": [
      "Dijeljenje sa ordinalom nula nije moguće.\n"
     ]
    }
   ],
   "source": [
    "try:\n",
    "    b / 0\n",
    "except ZeroDivisionError as e:\n",
    "    print(e)"
   ]
  },
  {
   "cell_type": "code",
   "execution_count": 15,
   "metadata": {},
   "outputs": [],
   "source": [
    "######################## Iz zbirke ######################"
   ]
  },
  {
   "cell_type": "code",
   "execution_count": 81,
   "metadata": {},
   "outputs": [
    {
     "data": {
      "text/latex": [
       "$\\omega^{2}\\cdot7 + \\omega\\cdot2$"
      ],
      "text/plain": [
       "w**2*7 + w*2"
      ]
     },
     "execution_count": 81,
     "metadata": {},
     "output_type": "execute_result"
    }
   ],
   "source": [
    "#zadatak 190.\n",
    "Ordinal.Isummation(lambda j: j*w+w*j, w+3)"
   ]
  },
  {
   "cell_type": "code",
   "execution_count": 82,
   "metadata": {},
   "outputs": [
    {
     "data": {
      "text/latex": [
       "$\\omega^{2}$"
      ],
      "text/plain": [
       "w**2"
      ]
     },
     "execution_count": 82,
     "metadata": {},
     "output_type": "execute_result"
    }
   ],
   "source": [
    "#zadatak 191.\n",
    "Ordinal.Isummation(lambda j: j, w*2)"
   ]
  },
  {
   "cell_type": "code",
   "execution_count": 83,
   "metadata": {},
   "outputs": [
    {
     "data": {
      "text/latex": [
       "$\\omega^{3}\\cdot2 + \\omega^{2}\\cdot3$"
      ],
      "text/plain": [
       "w**3*2 + w**2*3"
      ]
     },
     "execution_count": 83,
     "metadata": {},
     "output_type": "execute_result"
    }
   ],
   "source": [
    "#zadatak 192.\n",
    "Ordinal.Isummation(lambda j: (w+j)*w, w*2+3)"
   ]
  },
  {
   "cell_type": "code",
   "execution_count": 84,
   "metadata": {},
   "outputs": [
    {
     "data": {
      "text/latex": [
       "$\\omega$"
      ],
      "text/plain": [
       "w"
      ]
     },
     "execution_count": 84,
     "metadata": {},
     "output_type": "execute_result"
    }
   ],
   "source": [
    "#zadatak 193.\n",
    "Ordinal.Isummation(lambda j: j**2, w)"
   ]
  },
  {
   "cell_type": "code",
   "execution_count": 85,
   "metadata": {},
   "outputs": [
    {
     "data": {
      "text/latex": [
       "$\\omega^{2}\\cdot4$"
      ],
      "text/plain": [
       "w**2*4"
      ]
     },
     "execution_count": 85,
     "metadata": {},
     "output_type": "execute_result"
    }
   ],
   "source": [
    "#zadatak 195.a\n",
    "Ordinal.Isummation(lambda j: 2+j+2**j, w*2+2)"
   ]
  },
  {
   "cell_type": "code",
   "execution_count": 86,
   "metadata": {},
   "outputs": [
    {
     "data": {
      "text/latex": [
       "$\\omega^{4}\\cdot2$"
      ],
      "text/plain": [
       "w**4*2"
      ]
     },
     "execution_count": 86,
     "metadata": {},
     "output_type": "execute_result"
    }
   ],
   "source": [
    "#zadatak 195.b\n",
    "Ordinal.Isummation(lambda i: i**3+3**i, w*3)"
   ]
  },
  {
   "cell_type": "code",
   "execution_count": 87,
   "metadata": {},
   "outputs": [
    {
     "data": {
      "text/latex": [
       "$\\omega^{2}\\cdot2$"
      ],
      "text/plain": [
       "w**2*2"
      ]
     },
     "execution_count": 87,
     "metadata": {},
     "output_type": "execute_result"
    }
   ],
   "source": [
    "#zadatak 195.c\n",
    "Ordinal.Isummation(lambda i: i + w*2, w*2)"
   ]
  },
  {
   "cell_type": "code",
   "execution_count": 88,
   "metadata": {},
   "outputs": [
    {
     "data": {
      "text/latex": [
       "$\\omega^{3}$"
      ],
      "text/plain": [
       "w**3"
      ]
     },
     "execution_count": 88,
     "metadata": {},
     "output_type": "execute_result"
    }
   ],
   "source": [
    "#zadatak 195.e\n",
    "Ordinal.Isummation(lambda i: i ** 2, w*2)"
   ]
  },
  {
   "cell_type": "code",
   "execution_count": 89,
   "metadata": {},
   "outputs": [
    {
     "data": {
      "text/latex": [
       "$\\omega^{(\\omega + 4)}$"
      ],
      "text/plain": [
       "w**(w + 4)"
      ]
     },
     "execution_count": 89,
     "metadata": {},
     "output_type": "execute_result"
    }
   ],
   "source": [
    "#zadatak 195.f\n",
    "Ordinal.Isummation(lambda i: (w + i) * w ** (i + 2), w + 3)"
   ]
  },
  {
   "cell_type": "code",
   "execution_count": 90,
   "metadata": {},
   "outputs": [
    {
     "data": {
      "text/latex": [
       "$\\omega^{2}\\cdot2$"
      ],
      "text/plain": [
       "w**2*2"
      ]
     },
     "execution_count": 90,
     "metadata": {},
     "output_type": "execute_result"
    }
   ],
   "source": [
    "#zadatak 195.g\n",
    "Ordinal.Isummation(lambda i: w + 2*i, w*2)"
   ]
  },
  {
   "cell_type": "code",
   "execution_count": 91,
   "metadata": {},
   "outputs": [
    {
     "data": {
      "text/latex": [
       "$\\omega^{(\\omega\\cdot2)}$"
      ],
      "text/plain": [
       "w**(w*2)"
      ]
     },
     "execution_count": 91,
     "metadata": {},
     "output_type": "execute_result"
    }
   ],
   "source": [
    "#zadatak 195.h\n",
    "Ordinal.Isummation(lambda i: (i + 2) ** (w + i), w + 1)"
   ]
  },
  {
   "cell_type": "code",
   "execution_count": 92,
   "metadata": {},
   "outputs": [
    {
     "data": {
      "text/latex": [
       "$\\omega^{\\omega}\\cdot2$"
      ],
      "text/plain": [
       "w**w*2"
      ]
     },
     "execution_count": 92,
     "metadata": {},
     "output_type": "execute_result"
    }
   ],
   "source": [
    "#zadatak 195.i\n",
    "Ordinal.Isummation(lambda j: j**w, w+2)"
   ]
  },
  {
   "cell_type": "code",
   "execution_count": 93,
   "metadata": {},
   "outputs": [
    {
     "data": {
      "text/latex": [
       "$\\omega^{2}\\cdot2$"
      ],
      "text/plain": [
       "w**2*2"
      ]
     },
     "execution_count": 93,
     "metadata": {},
     "output_type": "execute_result"
    }
   ],
   "source": [
    "#zadatak 195.j\n",
    "Ordinal.Isummation(lambda j: w, w*2)"
   ]
  },
  {
   "cell_type": "code",
   "execution_count": 94,
   "metadata": {},
   "outputs": [
    {
     "data": {
      "text/latex": [
       "$\\omega^{(\\omega + 1)}$"
      ],
      "text/plain": [
       "w**(w + 1)"
      ]
     },
     "execution_count": 94,
     "metadata": {},
     "output_type": "execute_result"
    }
   ],
   "source": [
    "#zadatak 195.m\n",
    "Ordinal.Isummation(lambda j: w**j, w+2)"
   ]
  },
  {
   "cell_type": "code",
   "execution_count": 95,
   "metadata": {},
   "outputs": [
    {
     "data": {
      "text/latex": [
       "$\\omega^{(\\omega\\cdot3 + 2)}\\cdot4$"
      ],
      "text/plain": [
       "w**(w*3 + 2)*4"
      ]
     },
     "execution_count": 95,
     "metadata": {},
     "output_type": "execute_result"
    }
   ],
   "source": [
    "#zadatak 199.\n",
    "Ordinal.Iproduct(lambda j: j + w, w*3 + 2)"
   ]
  },
  {
   "cell_type": "code",
   "execution_count": 96,
   "metadata": {},
   "outputs": [
    {
     "data": {
      "text/latex": [
       "$\\omega^{(\\omega\\cdot2 + 2)} + \\omega^{(\\omega\\cdot2 + 1)}\\cdot3 + \\omega^{(\\omega\\cdot2)}\\cdot3$"
      ],
      "text/plain": [
       "w**(w*2 + 2) + w**(w*2 + 1)*3 + w**(w*2)*3"
      ]
     },
     "execution_count": 96,
     "metadata": {},
     "output_type": "execute_result"
    }
   ],
   "source": [
    "#zadatak 200.\n",
    "Ordinal.Iproduct(lambda j: (j + 2) ** (j + 1), w + 2)"
   ]
  },
  {
   "cell_type": "code",
   "execution_count": 97,
   "metadata": {},
   "outputs": [
    {
     "data": {
      "text/latex": [
       "$\\omega^{(\\omega^{2})}$"
      ],
      "text/plain": [
       "w**(w**2)"
      ]
     },
     "execution_count": 97,
     "metadata": {},
     "output_type": "execute_result"
    }
   ],
   "source": [
    "#zadatak 201.\n",
    "Ordinal.Iproduct(lambda j: w ** (w + j), w)"
   ]
  },
  {
   "cell_type": "code",
   "execution_count": 98,
   "metadata": {},
   "outputs": [
    {
     "data": {
      "text/latex": [
       "$\\omega^{(\\omega + 4)} + \\omega^{(\\omega + 3)}\\cdot2$"
      ],
      "text/plain": [
       "w**(w + 4) + w**(w + 3)*2"
      ]
     },
     "execution_count": 98,
     "metadata": {},
     "output_type": "execute_result"
    }
   ],
   "source": [
    "#zadatak 202.a\n",
    "Ordinal.Iproduct(lambda i: w ** 2 + 2 ** i, w + 2)"
   ]
  },
  {
   "cell_type": "code",
   "execution_count": 99,
   "metadata": {},
   "outputs": [
    {
     "data": {
      "text/latex": [
       "$\\omega^{(\\omega + 6)}\\cdot2$"
      ],
      "text/plain": [
       "w**(w + 6)*2"
      ]
     },
     "execution_count": 99,
     "metadata": {},
     "output_type": "execute_result"
    }
   ],
   "source": [
    "#zadatak 202.b\n",
    "Ordinal.Iproduct(lambda i: (2*i + w) ** 2, w + 3)"
   ]
  },
  {
   "cell_type": "code",
   "execution_count": 100,
   "metadata": {},
   "outputs": [
    {
     "data": {
      "text/latex": [
       "$\\omega^{(\\omega + 2)}\\cdot4 + \\omega^{(\\omega + 1)}\\cdot4$"
      ],
      "text/plain": [
       "w**(w + 2)*4 + w**(w + 1)*4"
      ]
     },
     "execution_count": 100,
     "metadata": {},
     "output_type": "execute_result"
    }
   ],
   "source": [
    "#zadatak 202.c\n",
    "Ordinal.Iproduct(lambda i: i + w*2 + i, w + 2)"
   ]
  },
  {
   "cell_type": "code",
   "execution_count": 101,
   "metadata": {},
   "outputs": [
    {
     "data": {
      "text/latex": [
       "$\\omega^{(\\omega\\cdot2)}$"
      ],
      "text/plain": [
       "w**(w*2)"
      ]
     },
     "execution_count": 101,
     "metadata": {},
     "output_type": "execute_result"
    }
   ],
   "source": [
    "\n",
    "Ordinal.Iproduct(lambda i: 2 ** i + w, w*2)"
   ]
  },
  {
   "cell_type": "code",
   "execution_count": 102,
   "metadata": {},
   "outputs": [
    {
     "data": {
      "text/latex": [
       "$\\omega^{(\\omega^{2})}$"
      ],
      "text/plain": [
       "w**(w**2)"
      ]
     },
     "execution_count": 102,
     "metadata": {},
     "output_type": "execute_result"
    }
   ],
   "source": [
    "#zadatak 209.a\n",
    "3 ** Ordinal.Isummation(lambda i: 3**i, w*3)"
   ]
  },
  {
   "cell_type": "code",
   "execution_count": 103,
   "metadata": {},
   "outputs": [
    {
     "data": {
      "text/latex": [
       "$\\omega^{3} + \\omega^{2}\\cdot2 + \\omega$"
      ],
      "text/plain": [
       "w**3 + w**2*2 + w"
      ]
     },
     "execution_count": 103,
     "metadata": {},
     "output_type": "execute_result"
    }
   ],
   "source": [
    "#zadatak 209.b\n",
    "2*w*(w+1)*(w+2)"
   ]
  },
  {
   "cell_type": "code",
   "execution_count": 104,
   "metadata": {},
   "outputs": [
    {
     "data": {
      "text/latex": [
       "$\\omega^{\\omega}$"
      ],
      "text/plain": [
       "w**w"
      ]
     },
     "execution_count": 104,
     "metadata": {},
     "output_type": "execute_result"
    }
   ],
   "source": [
    "(w+1) ** w"
   ]
  },
  {
   "cell_type": "markdown",
   "metadata": {},
   "source": [
    "### Veky's tests"
   ]
  },
  {
   "cell_type": "markdown",
   "metadata": {},
   "source": [
    "Bizarni bug koji je srećom lako popraviti. ;-)"
   ]
  },
  {
   "cell_type": "code",
   "execution_count": 105,
   "metadata": {},
   "outputs": [
    {
     "data": {
      "text/latex": [
       "$0$"
      ],
      "text/plain": []
     },
     "execution_count": 105,
     "metadata": {},
     "output_type": "execute_result"
    }
   ],
   "source": [
    "Ordinal.zero"
   ]
  },
  {
   "cell_type": "markdown",
   "metadata": {},
   "source": [
    "O ovome sam pričao gore."
   ]
  },
  {
   "cell_type": "code",
   "execution_count": 106,
   "metadata": {},
   "outputs": [
    {
     "data": {
      "text/latex": [
       "$\\omega + 2$"
      ],
      "text/plain": [
       "w + 2"
      ]
     },
     "execution_count": 106,
     "metadata": {},
     "output_type": "execute_result"
    }
   ],
   "source": [
    "2 * (w + 1)"
   ]
  },
  {
   "cell_type": "code",
   "execution_count": 107,
   "metadata": {},
   "outputs": [
    {
     "data": {
      "text/latex": [
       "$\\omega + 2$"
      ],
      "text/plain": [
       "w + 2"
      ]
     },
     "execution_count": 107,
     "metadata": {},
     "output_type": "execute_result"
    }
   ],
   "source": [
    "Ordinal.fromnat(2) * (w+1)"
   ]
  },
  {
   "cell_type": "markdown",
   "metadata": {},
   "source": [
    "LaTeX fail. Eksponenti bi trebali biti u vitičastim zagradama (najbolje uvijek;)."
   ]
  },
  {
   "cell_type": "code",
   "execution_count": 108,
   "metadata": {},
   "outputs": [
    {
     "data": {
      "text/latex": [
       "$\\omega^{10}$"
      ],
      "text/plain": [
       "w**10"
      ]
     },
     "execution_count": 108,
     "metadata": {},
     "output_type": "execute_result"
    }
   ],
   "source": [
    "w**10"
   ]
  },
  {
   "cell_type": "markdown",
   "metadata": {},
   "source": [
    "Ovo mi se čini već malo ozbiljnijim problemom... ali vjerojatno je samo nula specijalni slučaj."
   ]
  },
  {
   "cell_type": "code",
   "execution_count": 109,
   "metadata": {},
   "outputs": [
    {
     "data": {
      "text/latex": [
       "$0$"
      ],
      "text/plain": []
     },
     "execution_count": 109,
     "metadata": {},
     "output_type": "execute_result"
    }
   ],
   "source": [
    "zz = Ordinal.zero\n",
    "zz ** 2"
   ]
  },
  {
   "cell_type": "code",
   "execution_count": 110,
   "metadata": {
    "scrolled": true
   },
   "outputs": [
    {
     "data": {
      "text/latex": [
       "$0$"
      ],
      "text/plain": []
     },
     "execution_count": 110,
     "metadata": {},
     "output_type": "execute_result"
    }
   ],
   "source": [
    "Ordinal.zero ** 2"
   ]
  },
  {
   "cell_type": "code",
   "execution_count": 111,
   "metadata": {},
   "outputs": [
    {
     "data": {
      "text/latex": [
       "$0$"
      ],
      "text/plain": []
     },
     "execution_count": 111,
     "metadata": {},
     "output_type": "execute_result"
    }
   ],
   "source": [
    "0 ** Ordinal.fromnat(2)"
   ]
  },
  {
   "cell_type": "markdown",
   "metadata": {},
   "source": [
    "Evo jedne jednostavne sume koju kalkulator pogrešno izračuna. Naravno da možete i to dodati kao specijalni slučaj, ali samo Vam hoću dokazati da se i dalje radi o heuristici, ne o nečem što je uvijek točno."
   ]
  },
  {
   "cell_type": "code",
   "execution_count": 112,
   "metadata": {},
   "outputs": [
    {
     "data": {
      "text/latex": [
       "$\\omega^{3}$"
      ],
      "text/plain": [
       "w**3"
      ]
     },
     "execution_count": 112,
     "metadata": {},
     "output_type": "execute_result"
    }
   ],
   "source": [
    "Ordinal.Isummation(lambda k: w**k,  w)"
   ]
  },
  {
   "cell_type": "markdown",
   "metadata": {},
   "source": [
    "Naravno, za produkte je puno kompliciranije, jer ima puno više singularnih slučajeva."
   ]
  },
  {
   "cell_type": "code",
   "execution_count": 113,
   "metadata": {},
   "outputs": [
    {
     "data": {
      "text/latex": [
       "$1$"
      ],
      "text/plain": [
       "1"
      ]
     },
     "execution_count": 113,
     "metadata": {},
     "output_type": "execute_result"
    }
   ],
   "source": [
    "Ordinal.Iproduct(lambda k: Ordinal.one, w)"
   ]
  },
  {
   "cell_type": "code",
   "execution_count": 114,
   "metadata": {},
   "outputs": [
    {
     "data": {
      "text/plain": [
       "1"
      ]
     },
     "execution_count": 114,
     "metadata": {},
     "output_type": "execute_result"
    }
   ],
   "source": [
    "Ordinal.fromnat(1) ** w"
   ]
  },
  {
   "cell_type": "markdown",
   "metadata": {},
   "source": [
    "Faktor nula. :-( /Ova greška se i Franki dogodi puno puta.:/"
   ]
  },
  {
   "cell_type": "code",
   "execution_count": 115,
   "metadata": {},
   "outputs": [
    {
     "data": {
      "text/latex": [
       "$0$"
      ],
      "text/plain": []
     },
     "execution_count": 115,
     "metadata": {},
     "output_type": "execute_result"
    }
   ],
   "source": [
    "Ordinal.Iproduct(lambda k: k**w, w)"
   ]
  },
  {
   "cell_type": "markdown",
   "metadata": {},
   "source": [
    "### Ideja"
   ]
  },
  {
   "cell_type": "markdown",
   "metadata": {},
   "source": [
    "Teorem o dijeljenju s ostatkom (`//`, `%`, `divmod`). Koliko bi komplicirano to bilo dodati? Mislim da ne bi trebalo biti strašno. Level previous: `-` (`__sub__`, ograničeno oduzimanje ordinala), level next: log(aritamski algoritam:). Ok, ovo treće je vjerojatno too much."
   ]
  },
  {
   "cell_type": "code",
   "execution_count": null,
   "metadata": {},
   "outputs": [],
   "source": []
  }
 ],
 "metadata": {
  "kernelspec": {
   "display_name": "Python 3",
   "language": "python",
   "name": "python3"
  },
  "language_info": {
   "codemirror_mode": {
    "name": "ipython",
    "version": 3
   },
   "file_extension": ".py",
   "mimetype": "text/x-python",
   "name": "python",
   "nbconvert_exporter": "python",
   "pygments_lexer": "ipython3",
   "version": "3.7.1"
  }
 },
 "nbformat": 4,
 "nbformat_minor": 2
}
