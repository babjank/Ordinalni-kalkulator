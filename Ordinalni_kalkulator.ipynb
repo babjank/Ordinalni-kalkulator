{
 "cells": [
  {
   "cell_type": "markdown",
   "metadata": {},
   "source": [
    "# Ordinalni kalkulator"
   ]
  },
  {
   "cell_type": "code",
   "execution_count": 1,
   "metadata": {},
   "outputs": [],
   "source": [
    "from functools import total_ordering\n",
    "from collections import Counter\n",
    "import copy\n",
    "\n",
    "'''\n",
    "Klasa koja reprezentira ordinale u Cantorovoj normalnoj formi.\n",
    "'''\n",
    "\n",
    "@total_ordering\n",
    "class Ordinal():\n",
    "    def __init__(self, arg):\n",
    "        '''\n",
    "        Konstruktor.\n",
    "        '''\n",
    "        if isinstance(arg, int):\n",
    "            if arg >= 0:\n",
    "                arg = {Ordinal.zero: arg}\n",
    "            else:\n",
    "                raise ValueError(\"Ordinal ne može biti negativan broj\")\n",
    "        summands = Counter(arg)\n",
    "        self.summands = Counter()\n",
    "        for exp, coeff in summands.items():\n",
    "            if not isinstance(coeff, int) or coeff < 0:\n",
    "                raise ValueError(\"Koeficijent ne može biti ne prirodni broj\")\n",
    "            \n",
    "            if isinstance(exp, int):\n",
    "                exp = Ordinal.fromnat(exp)\n",
    "            if type(exp) is not Ordinal:\n",
    "                raise ValueError(\"Eksponent ne može biti ne Ordinal\")\n",
    "                \n",
    "            if coeff > 0:\n",
    "                self.summands[exp] += coeff\n",
    "            \n",
    "        \n",
    "    def omega():\n",
    "        '''\n",
    "        Konstruira osnovni ordinal omega.\n",
    "        '''\n",
    "        return Ordinal({1:1})\n",
    "    \n",
    "    def fromnat(n):\n",
    "        '''\n",
    "        Pretvara obični prirodan broj iz tipa int u tip Ordinal.\n",
    "        '''\n",
    "        return Ordinal({Ordinal.zero:n})\n",
    "    \n",
    "    def coefficient(self, k):\n",
    "        \"\"\"\n",
    "        Vraća faktor od k-tog sumanda ordinala self.\n",
    "        \"\"\"\n",
    "        return list(dict(sorted(self.summands.items(),reverse=True)).values())[k] \n",
    "    \n",
    "    def exponent(self, k):\n",
    "        \"\"\"\n",
    "        Vraća eksponent od k-tog sumanda ordinala self.\n",
    "        \"\"\"\n",
    "        return list(dict(sorted(self.summands.items(),reverse=True)).keys())[k] \n",
    "    \n",
    "    @property\n",
    "    def is_number(self):\n",
    "        '''\n",
    "        Funkcija provjerava je li ordinal prirodni broj.\n",
    "        '''\n",
    "        if len(self.summands) == 1:\n",
    "            if self == Ordinal(self.coefficient(0)):\n",
    "                return True\n",
    "               \n",
    "        return False\n",
    "    \n",
    "    @property\n",
    "    def is_null(self):\n",
    "        '''\n",
    "        Funkcija provjerava je li ordinal nula.\n",
    "        '''\n",
    "        if len(self.summands) == 0:\n",
    "            return True\n",
    "        return False\n",
    "    \n",
    "    @property\n",
    "    def is_successor(self):\n",
    "        '''\n",
    "        Funkcija koja određuje je li ordinal tipa sljedbenik.\n",
    "        '''\n",
    "        return self.summands[Ordinal.zero] != 0\n",
    "\n",
    "    \n",
    "    def equals_one(self):\n",
    "        '''\n",
    "        Funkcija provjerava je li ordinal jednak jedinici.\n",
    "        '''\n",
    "        return self == Ordinal(1)\n",
    "    \n",
    "    def equals_omega(self):\n",
    "        '''\n",
    "        Funkcija provjerava je li ordinal jednak najmanjem beskonačnom ordinalu omega.\n",
    "        '''\n",
    "        return self == Ordinal.omega()\n",
    "\n",
    "    @staticmethod\n",
    "    def _make_string(exp,coef):\n",
    "        '''\n",
    "        Pretvara sumand u latex izraz. \n",
    "        '''\n",
    "        s = ''\n",
    "        if exp.is_null:\n",
    "            return s + str(coef)\n",
    "        if exp.is_number:\n",
    "            exp = exp.coefficient(0)\n",
    "\n",
    "        if exp == 0:\n",
    "            s += str(coef)\n",
    "        elif coef == 0:\n",
    "            s += \"0\"\n",
    "        else:\n",
    "            s += \"\\omega\"\n",
    "            \n",
    "            if type(exp) is int and exp > 1:\n",
    "                s += '^' + str(exp)\n",
    "            elif type(exp) is Ordinal:\n",
    "                s += '^'\n",
    "                if not exp.equals_omega():\n",
    "                    s += '{('\n",
    "                s += str(exp)\n",
    "                if not exp.equals_omega():\n",
    "                    s += ')}'\n",
    "            if coef != 1:\n",
    "                s += '*' + str(coef)\n",
    "        return s\n",
    "    \n",
    "    def __str__(self):\n",
    "        summands = [self._make_string(exp,self.summands[exp]) for exp in self.summands]\n",
    "        return ' + '.join(summands)\n",
    "    \n",
    "    def __repr__(self):\n",
    "        return str(self)\n",
    "    \n",
    "    def _repr_latex_(self):\n",
    "        return r\"$%s$\" % str(self)\n",
    "    \n",
    "    def __eq__(self, other):\n",
    "        if isinstance(other, int):\n",
    "            other = Ordinal(other)\n",
    "            \n",
    "        if type(other) is Ordinal:\n",
    "            return self.summands == other.summands\n",
    "        else:\n",
    "            raise TypeError(self._cmp_error_string % (type(self), type(other)))\n",
    "\n",
    "    def __lt__(self, other):\n",
    "        if isinstance(other, int):\n",
    "            other = Ordinal(other)\n",
    "            \n",
    "        if type(other) is Ordinal:\n",
    "            i = 0\n",
    "            j = 0\n",
    "\n",
    "            while i < len(self.summands) and j < len(other.summands):\n",
    "                coef1 = self.coefficient(i)\n",
    "                coef2 = other.coefficient(j)\n",
    "                exp1 = self.exponent(i)\n",
    "                exp2 = other.exponent(j)\n",
    "\n",
    "                if exp1 > exp2:\n",
    "                    return False\n",
    "                elif exp2 > exp1:\n",
    "                    return True\n",
    "                else:\n",
    "                    if coef1 > coef2:\n",
    "                        return False\n",
    "                    elif coef2 > coef1:\n",
    "                        return True\n",
    "\n",
    "                i += 1\n",
    "                j += 1\n",
    "\n",
    "            if i >= len(self.summands):\n",
    "                if j >= len(other.summands):\n",
    "                    return False\n",
    "                return True\n",
    "            else:\n",
    "                return False\n",
    "        else:\n",
    "            raise TypeError(self._cmp_error_string % (type(self), type(other)))\n",
    "    \n",
    "    def __hash__(self):\n",
    "        return hash((Ordinal, frozenset(self.summands.items())))\n",
    "    \n",
    "    def __add__(self, other):\n",
    "        '''\n",
    "        Računa sumu ordinala self + other zadržavajući u CNF.\n",
    "        '''\n",
    "        if type(other) is int:\n",
    "            if other >= 0:\n",
    "                other = Ordinal(other)\n",
    "            else:\n",
    "                raise ValueError(\"Ne mogu se dodati negativni brojevi\")\n",
    "        \n",
    "        if type(other) is not Ordinal:\n",
    "            raise TypeError(f\"Krivi tip podataka za zbrajanje: {type(self)} i {type(other)}\")\n",
    "                \n",
    "        if self.is_null:\n",
    "            return other\n",
    "        if other.is_null:\n",
    "            return self\n",
    "                \n",
    "        i = 0\n",
    "        j = 0\n",
    "        \n",
    "        exp1 = self.exponent(i)\n",
    "        exp2 = other.exponent(j)\n",
    "        \n",
    "        \n",
    "        result = Counter()\n",
    "        \n",
    "        while exp1 > exp2:\n",
    "            coef1 = self.coefficient(i)\n",
    "            result[exp1] = coef1\n",
    "            i += 1\n",
    "            \n",
    "            if i >= len(self.summands):\n",
    "                break\n",
    "\n",
    "            exp1 = self.exponent(i)\n",
    "            \n",
    "        \n",
    "        resultCoef = other.coefficient(j)\n",
    "        if i < len(self.summands) and exp1 == exp2:\n",
    "            resultCoef += self.coefficient(i)\n",
    "        \n",
    "        result[exp2] = resultCoef\n",
    "\n",
    "        j += 1\n",
    "        while j < len(other.summands):\n",
    "            exp2 = other.exponent(j)\n",
    "            result[exp2] = other.summands[exp2]\n",
    "            j += 1\n",
    "            \n",
    "        return Ordinal(result)\n",
    "\n",
    "    def __radd__(self, other):\n",
    "        '''\n",
    "        Računa sumu broja i ordinala zadržavajući u CNF.\n",
    "        '''\n",
    "        if type(other) is int:\n",
    "            if other >= 0:\n",
    "                return self\n",
    "            else:\n",
    "                raise ValueError(\"Ne mogu se dodati negativni brojevi\")\n",
    "        else:\n",
    "            raise TypeError(f\"Krivi tip podataka za zbrajanje: {type(self)} i {type(other)}\")\n",
    "            \n",
    "    def __mul__(self, other):\n",
    "        '''\n",
    "        Računa produkt ordinala self * other zadržavajući u CNF.\n",
    "        '''\n",
    "        if type(other) is int:\n",
    "            if other >= 0:\n",
    "                other = Ordinal(other)\n",
    "            else:\n",
    "                raise ValueError(\"Ne mogu se množiti negativni brojevi\")\n",
    "                \n",
    "        if type(other) is not Ordinal:\n",
    "            raise TypeError(f\"Krivi tip podataka za množenje: {type(self)} i {type(other)}\")\n",
    "\n",
    "        if self.is_null or other.is_null:\n",
    "            return Ordinal.zero\n",
    "        \n",
    "        i = 0\n",
    "        j = 0\n",
    "        \n",
    "        exp1 = self.exponent(i)\n",
    "        exp2 = other.exponent(j)\n",
    "        \n",
    "        result = Counter()\n",
    "        \n",
    "        while exp2 > 0:\n",
    "            resultExp = exp1 + exp2\n",
    "            result[resultExp] += other.coefficient(j)\n",
    "            j += 1\n",
    "            \n",
    "            if j >= len(other.summands):\n",
    "                break\n",
    "                \n",
    "            exp2 = other.exponent(j)\n",
    "        \n",
    "        if j < len(other.summands):\n",
    "            resultCoef = other.coefficient(j) * self.coefficient(i)\n",
    "            result[exp1] += resultCoef\n",
    "            \n",
    "            i += 1\n",
    "            while i < len(self.summands):\n",
    "                exp1 = self.exponent(i)\n",
    "                result[exp1] += self.summands[exp1]\n",
    "                i += 1\n",
    "            \n",
    "        return Ordinal(result)\n",
    "\n",
    "    def __rmul__(self, other):\n",
    "        '''\n",
    "        Računa umnožak broja i ordinala zadržavajući u CNF.\n",
    "        '''\n",
    "        if type(other) is int:\n",
    "            if other > 0:\n",
    "                return self\n",
    "            elif other == 0:\n",
    "                return Ordinal.zero\n",
    "            else:\n",
    "                raise ValueError(\"Ne mogu se množiti negativni brojevi\")\n",
    "        else:\n",
    "            raise TypeError(f\"Krivi tip podataka za množenje: {type(self)} i {type(other)}\")\n",
    "            \n",
    "    def __pow__(self, other):\n",
    "        '''\n",
    "        Računa rezultat potenciranja ordinala self ^ other zadržavajući u CNF.\n",
    "        '''\n",
    "        if type(other) is int:\n",
    "            if other >= 0:\n",
    "                other = Ordinal(other)\n",
    "            else:\n",
    "                raise ValueError(\"Ne može se potencirati ordinal na negativni broj\")\n",
    "        \n",
    "        if type(other) is not Ordinal:\n",
    "            raise TypeError(f\"Krivi tip podataka za potenciranje: {type(self)} i {type(other)}\")\n",
    "        \n",
    "        natTerm = False #ima li other = w^a1*n1+...+w^ak*nk u cnf zapisu ak=0\n",
    "        \n",
    "        if other.is_null:\n",
    "            return Ordinal(1)\n",
    "        \n",
    "        if other.is_number:\n",
    "            if self.is_number:\n",
    "                # self < omega, other < omega\n",
    "                result = self.summands[Ordinal.zero] ** other.summands[Ordinal.zero]\n",
    "            else:\n",
    "                # self >= omega, other < omega\n",
    "                coef2 = other.coefficient(0)\n",
    "                \n",
    "                if coef2 == 0:\n",
    "                    return Ordinal(1)\n",
    "                if coef2 == 1:\n",
    "                    return self\n",
    "                \n",
    "                i = 0\n",
    "                j = 0\n",
    "                result = Counter()\n",
    "                \n",
    "                exp1 = self.exponent(0)\n",
    "                coef1 = self.coefficient(0)\n",
    "                \n",
    "                tmp = exp1*(coef2-1)\n",
    "                \n",
    "                while True:\n",
    "                    if exp1.is_null:\n",
    "                        break\n",
    "                        \n",
    "                    tmpExp = tmp + exp1\n",
    "                    result[tmpExp] = coef1\n",
    "                    i += 1\n",
    "                    \n",
    "                    if i >= len(self.summands):\n",
    "                        break\n",
    "                        \n",
    "                    exp1 = self.exponent(i)\n",
    "                    coef1 = self.coefficient(i)\n",
    "                    \n",
    "                if exp1.is_null:\n",
    "                    if coef1 > 0:\n",
    "                        tmpCoef = self.coefficient(0) * coef1;\n",
    "\n",
    "                        for j in range(1,coef2):\n",
    "                            tmpExp =  self.exponent(0) * (coef2-j)\n",
    "                            result[tmpExp] = tmpCoef\n",
    "                            \n",
    "                            i = 1\n",
    "                            while i < len(self.summands)-1:\n",
    "                                exp1 = self.exponent(i)\n",
    "                                coef1 = self.coefficient(i)\n",
    "\n",
    "                                tmpExp =  self.exponent(0) * (coef2-j-1)\n",
    "\n",
    "                                if tmpExp.is_null:\n",
    "                                    return Ordinal.zero\n",
    "\n",
    "                                tmpExp = tmpExp + exp1\n",
    "\n",
    "                                if tmpExp.is_null:\n",
    "                                    return Ordinal.zero\n",
    "                                result[tmpExp] = coef1\n",
    "                                i += 1\n",
    "\n",
    "                        result[Ordinal.zero] = coef1\n",
    "                    \n",
    "        else:\n",
    "            if self.is_null:\n",
    "                result = 0\n",
    "            elif self.equals_one():\n",
    "                result = 1\n",
    "            elif self.is_number:\n",
    "                # 1 < self < omega, other >= omega\n",
    "                result = Counter()\n",
    "                tmp = Counter()\n",
    "\n",
    "                for i in range(len(other.summands)):\n",
    "                        exp2 = other.exponent(i)\n",
    "                        coef2 = other.coefficient(i)\n",
    "                        if exp2.is_null == False:\n",
    "                            if exp2.is_number:\n",
    "                                    exp2 = Ordinal(exp2.coefficient(0) - 1)\n",
    "                            tmp[exp2] = coef2;\n",
    "                        else:\n",
    "                            natTerm = True\n",
    "\n",
    "                if natTerm == True:\n",
    "                    resCoef = self.coefficient(0) ** coef2;\n",
    "                else:\n",
    "                    resCoef = 1;\n",
    "\n",
    "                result[Ordinal(tmp)] = resCoef\n",
    "            else:\n",
    "                # self >= omega, other >= omega\n",
    "                exp1 = self.exponent(0)\n",
    "                \n",
    "                result = Counter()\n",
    "                tmp = Counter()\n",
    "\n",
    "                for i in range(len(other.summands)):\n",
    "                        exp2 = other.exponent(i)\n",
    "                        coef2 = other.coefficient(i)\n",
    "                        if exp2.is_null == False:\n",
    "                            tmp[exp2] = coef2\n",
    "                        else:\n",
    "                            natTerm = True\n",
    "\n",
    "                tmpExp = exp1*Ordinal(tmp)\n",
    "                if tmpExp.is_null:\n",
    "                    return Ordinal.zero\n",
    "                result[tmpExp] = 1\n",
    "                \n",
    "                \n",
    "                if natTerm == True:\n",
    "                    tmp2 = self ** coef2\n",
    "                    return Ordinal(result) * tmp2\n",
    "\n",
    "        return Ordinal(result)\n",
    "    \n",
    "    def __rpow__(self, other):\n",
    "        '''\n",
    "        Računa potenciju broja na ordinal zadržavajući u CNF.\n",
    "        '''\n",
    "        if type(other) is int:\n",
    "            if other >= 0:\n",
    "                other = Ordinal(other)\n",
    "                return other ** self\n",
    "            else:\n",
    "                raise ValueError(\"Ne može se potencirati negativni broj na ordinal\")\n",
    "        else:\n",
    "            raise TypeError(f\"Krivi tip podataka za potenciranje: {type(self)} i {type(other)}\")\n",
    "            \n",
    "    \n",
    "    def Isummation(alfa_k,beta):\n",
    "        '''\n",
    "        Funkcija računa sumu lambda izraza alfa_k koji predstavlja ordinal do granice beta = w*i1+i0.\n",
    "        '''\n",
    "        sum = Ordinal.zero\n",
    "        \n",
    "        for i in range(beta.summands[Ordinal(1)]):\n",
    "            alfa_fp2 = alfa_k(w*i+2)\n",
    "            sumExp = alfa_fp2.exponent(0)+1\n",
    "\n",
    "            sum = sum + Ordinal({sumExp:1})\n",
    "            \n",
    "        tmp = w*beta.summands[Ordinal(1)]\n",
    "        if beta.summands[Ordinal.zero] != 0:\n",
    "            sum = sum + alfa_k(tmp+0)\n",
    "            for i in range(1,beta.summands[Ordinal.zero]):\n",
    "                sum = sum + alfa_k(tmp+i)\n",
    "        \n",
    "        return sum\n",
    "        \n",
    "    def Iproduct(alfa_k,beta):\n",
    "        '''\n",
    "        Funkcija računa umnožak lambda izraza alfa_k koji predstavlja ordinal do granice beta = w*i1+i0.\n",
    "        '''\n",
    "        prod = Ordinal(1)\n",
    "        \n",
    "        for i in range(beta.summands[Ordinal(1)]):\n",
    "            alfa_fp2 = alfa_k(w*i+2)\n",
    "            if alfa_fp2.is_number:\n",
    "                prodExp = 1\n",
    "            else:\n",
    "                prodExp = alfa_fp2.exponent(0) * w\n",
    "\n",
    "            prod = prod*Ordinal({prodExp:1})\n",
    "            \n",
    "        tmp = w*beta.summands[Ordinal(1)]\n",
    "        if beta.summands[Ordinal.zero] != 0:\n",
    "            prod = prod*alfa_k(tmp+0)\n",
    "            for i in range(1,beta.summands[Ordinal.zero]):\n",
    "                prod = prod*alfa_k(tmp+i)\n",
    "        \n",
    "        return prod\n",
    "\n",
    "\n",
    "Ordinal.zero = Ordinal({})\n",
    "w = Ordinal.omega()"
   ]
  },
  {
   "cell_type": "markdown",
   "metadata": {},
   "source": [
    "## Testiranje"
   ]
  },
  {
   "cell_type": "code",
   "execution_count": 2,
   "metadata": {},
   "outputs": [],
   "source": [
    "w = Ordinal.omega()\n",
    "r = Ordinal({w:3,1:1})\n",
    "t = Ordinal(3)\n",
    "o = Ordinal({w:3,1:1})\n",
    "p = Ordinal({o:1,0:1})\n",
    "\n",
    "\n",
    "assert o.is_successor == False\n",
    "assert p.is_successor == True\n",
    "\n",
    "assert (p == o) == False\n",
    "assert (o < p) == True\n",
    "assert (w < p) == True\n",
    "assert (w > p) == False\n",
    "assert (p == w) == False\n",
    "assert (w > 1) == True\n",
    "\n",
    "q = Ordinal({0:3})\n",
    "assert q.is_number == True\n",
    "assert q > 2\n",
    "\n",
    "test1add = Ordinal({Ordinal({Ordinal({1:1}):3,1:1}):1,0:1})\n",
    "assert o + p == test1add\n",
    "\n",
    "test2add = Ordinal({Ordinal({Ordinal({1:1}):3,1:1}):1,Ordinal({1:1}):3,1:1})\n",
    "assert p + o == test2add\n",
    "\n",
    "test3sum = Ordinal({o:1,0:4})\n",
    "assert p + 3 == test3sum\n",
    "\n",
    "test1mul = Ordinal({w:6,1:1})\n",
    "assert o * 2 == test1mul\n",
    "\n",
    "test2mul = Ordinal({Ordinal({Ordinal({1:1}):3,1:2}):3,Ordinal({Ordinal({1:1}):3,1:1,0:1}):1})\n",
    "assert p * o == test2mul\n",
    "\n",
    "test1exp = Ordinal({Ordinal({1:1,0:1}):1, w:1})\n",
    "assert (w+1) ** (w+1) == test1exp\n",
    "\n",
    "test2exp = Ordinal({Ordinal({w:3,0:1}):1})\n",
    "assert 2 ** o == test2exp\n",
    "\n",
    "test3exp = Ordinal({Ordinal({w:3,2:1}):1})\n",
    "assert o ** o == test3exp"
   ]
  },
  {
   "cell_type": "code",
   "execution_count": 3,
   "metadata": {},
   "outputs": [
    {
     "data": {
      "text/plain": [
       "False"
      ]
     },
     "execution_count": 3,
     "metadata": {},
     "output_type": "execute_result"
    }
   ],
   "source": [
    "Ordinal.zero.is_successor"
   ]
  },
  {
   "cell_type": "code",
   "execution_count": 4,
   "metadata": {},
   "outputs": [
    {
     "data": {
      "text/latex": [
       "$\\omega$"
      ],
      "text/plain": [
       "\\omega"
      ]
     },
     "execution_count": 4,
     "metadata": {},
     "output_type": "execute_result"
    }
   ],
   "source": [
    "w = Ordinal.omega()\n",
    "w"
   ]
  },
  {
   "cell_type": "code",
   "execution_count": 5,
   "metadata": {},
   "outputs": [
    {
     "data": {
      "text/latex": [
       "$\\omega^\\omega*3 + \\omega$"
      ],
      "text/plain": [
       "\\omega^\\omega*3 + \\omega"
      ]
     },
     "execution_count": 5,
     "metadata": {},
     "output_type": "execute_result"
    }
   ],
   "source": [
    "r = Ordinal({w:3,1:1})\n",
    "r"
   ]
  },
  {
   "cell_type": "code",
   "execution_count": 6,
   "metadata": {},
   "outputs": [
    {
     "data": {
      "text/latex": [
       "$3$"
      ],
      "text/plain": [
       "3"
      ]
     },
     "execution_count": 6,
     "metadata": {},
     "output_type": "execute_result"
    }
   ],
   "source": [
    "t = Ordinal(3)\n",
    "t"
   ]
  },
  {
   "cell_type": "code",
   "execution_count": 7,
   "metadata": {},
   "outputs": [
    {
     "data": {
      "text/plain": [
       "True"
      ]
     },
     "execution_count": 7,
     "metadata": {},
     "output_type": "execute_result"
    }
   ],
   "source": [
    "t.is_number"
   ]
  },
  {
   "cell_type": "code",
   "execution_count": 8,
   "metadata": {},
   "outputs": [
    {
     "data": {
      "text/plain": [
       "False"
      ]
     },
     "execution_count": 8,
     "metadata": {},
     "output_type": "execute_result"
    }
   ],
   "source": [
    "t.equals_one()"
   ]
  },
  {
   "cell_type": "code",
   "execution_count": 9,
   "metadata": {},
   "outputs": [
    {
     "data": {
      "text/plain": [
       "False"
      ]
     },
     "execution_count": 9,
     "metadata": {},
     "output_type": "execute_result"
    }
   ],
   "source": [
    "r.equals_omega()"
   ]
  },
  {
   "cell_type": "code",
   "execution_count": 10,
   "metadata": {},
   "outputs": [
    {
     "data": {
      "text/latex": [
       "$\\omega^\\omega*3 + \\omega$"
      ],
      "text/plain": [
       "\\omega^\\omega*3 + \\omega"
      ]
     },
     "execution_count": 10,
     "metadata": {},
     "output_type": "execute_result"
    }
   ],
   "source": [
    "o = Ordinal({w:3,1:1})\n",
    "o"
   ]
  },
  {
   "cell_type": "code",
   "execution_count": 11,
   "metadata": {},
   "outputs": [
    {
     "data": {
      "text/latex": [
       "$\\omega^{(\\omega^\\omega*3 + \\omega)} + 1$"
      ],
      "text/plain": [
       "\\omega^{(\\omega^\\omega*3 + \\omega)} + 1"
      ]
     },
     "execution_count": 11,
     "metadata": {},
     "output_type": "execute_result"
    }
   ],
   "source": [
    "p = Ordinal({o:1,0:1})\n",
    "p"
   ]
  },
  {
   "cell_type": "code",
   "execution_count": 12,
   "metadata": {},
   "outputs": [
    {
     "data": {
      "text/latex": [
       "$\\omega^{(\\omega^\\omega*3 + \\omega)} + 1$"
      ],
      "text/plain": [
       "\\omega^{(\\omega^\\omega*3 + \\omega)} + 1"
      ]
     },
     "execution_count": 12,
     "metadata": {},
     "output_type": "execute_result"
    }
   ],
   "source": [
    "o + p"
   ]
  },
  {
   "cell_type": "code",
   "execution_count": 13,
   "metadata": {},
   "outputs": [
    {
     "data": {
      "text/latex": [
       "$\\omega^{(\\omega^\\omega*3 + \\omega)} + \\omega^\\omega*3 + \\omega$"
      ],
      "text/plain": [
       "\\omega^{(\\omega^\\omega*3 + \\omega)} + \\omega^\\omega*3 + \\omega"
      ]
     },
     "execution_count": 13,
     "metadata": {},
     "output_type": "execute_result"
    }
   ],
   "source": [
    "p + o"
   ]
  },
  {
   "cell_type": "code",
   "execution_count": 14,
   "metadata": {},
   "outputs": [
    {
     "data": {
      "text/latex": [
       "$\\omega^{(\\omega^\\omega*3 + \\omega)} + \\omega$"
      ],
      "text/plain": [
       "\\omega^{(\\omega^\\omega*3 + \\omega)} + \\omega"
      ]
     },
     "execution_count": 14,
     "metadata": {},
     "output_type": "execute_result"
    }
   ],
   "source": [
    "p + w"
   ]
  },
  {
   "cell_type": "code",
   "execution_count": 15,
   "metadata": {},
   "outputs": [
    {
     "data": {
      "text/latex": [
       "$\\omega^{(\\omega^\\omega*3 + \\omega)} + 4$"
      ],
      "text/plain": [
       "\\omega^{(\\omega^\\omega*3 + \\omega)} + 4"
      ]
     },
     "execution_count": 15,
     "metadata": {},
     "output_type": "execute_result"
    }
   ],
   "source": [
    "p + 3"
   ]
  },
  {
   "cell_type": "code",
   "execution_count": 16,
   "metadata": {},
   "outputs": [
    {
     "data": {
      "text/latex": [
       "$\\omega^{(\\omega^\\omega*3 + \\omega)} + 1$"
      ],
      "text/plain": [
       "\\omega^{(\\omega^\\omega*3 + \\omega)} + 1"
      ]
     },
     "execution_count": 16,
     "metadata": {},
     "output_type": "execute_result"
    }
   ],
   "source": [
    "p"
   ]
  },
  {
   "cell_type": "code",
   "execution_count": 17,
   "metadata": {},
   "outputs": [
    {
     "data": {
      "text/latex": [
       "$\\omega^{(\\omega^\\omega*3 + \\omega)} + \\omega*2 + 1$"
      ],
      "text/plain": [
       "\\omega^{(\\omega^\\omega*3 + \\omega)} + \\omega*2 + 1"
      ]
     },
     "execution_count": 17,
     "metadata": {},
     "output_type": "execute_result"
    }
   ],
   "source": [
    "p + w + w + 1"
   ]
  },
  {
   "cell_type": "code",
   "execution_count": 18,
   "metadata": {},
   "outputs": [
    {
     "data": {
      "text/latex": [
       "$\\omega^{(\\omega^\\omega*3 + \\omega*2)}*3 + \\omega^{(\\omega^\\omega*3 + \\omega + 1)}$"
      ],
      "text/plain": [
       "\\omega^{(\\omega^\\omega*3 + \\omega*2)}*3 + \\omega^{(\\omega^\\omega*3 + \\omega + 1)}"
      ]
     },
     "execution_count": 18,
     "metadata": {},
     "output_type": "execute_result"
    }
   ],
   "source": [
    "p * o"
   ]
  },
  {
   "cell_type": "code",
   "execution_count": 19,
   "metadata": {},
   "outputs": [
    {
     "data": {
      "text/latex": [
       "$\\omega^\\omega*6 + \\omega$"
      ],
      "text/plain": [
       "\\omega^\\omega*6 + \\omega"
      ]
     },
     "execution_count": 19,
     "metadata": {},
     "output_type": "execute_result"
    }
   ],
   "source": [
    "o * 2"
   ]
  },
  {
   "cell_type": "code",
   "execution_count": 20,
   "metadata": {},
   "outputs": [
    {
     "data": {
      "text/latex": [
       "$\\omega^{(\\omega + 1)} + \\omega^\\omega$"
      ],
      "text/plain": [
       "\\omega^{(\\omega + 1)} + \\omega^\\omega"
      ]
     },
     "execution_count": 20,
     "metadata": {},
     "output_type": "execute_result"
    }
   ],
   "source": [
    "(w+1)**(w+1)"
   ]
  },
  {
   "cell_type": "code",
   "execution_count": 21,
   "metadata": {},
   "outputs": [
    {
     "data": {
      "text/latex": [
       "$\\omega^{(\\omega^{(\\omega^\\omega)})}$"
      ],
      "text/plain": [
       "\\omega^{(\\omega^{(\\omega^\\omega)})}"
      ]
     },
     "execution_count": 21,
     "metadata": {},
     "output_type": "execute_result"
    }
   ],
   "source": [
    "w**w**w**w"
   ]
  },
  {
   "cell_type": "code",
   "execution_count": 22,
   "metadata": {},
   "outputs": [
    {
     "data": {
      "text/latex": [
       "$\\omega^\\omega$"
      ],
      "text/plain": [
       "\\omega^\\omega"
      ]
     },
     "execution_count": 22,
     "metadata": {},
     "output_type": "execute_result"
    }
   ],
   "source": [
    "2 ** w ** 2"
   ]
  },
  {
   "cell_type": "code",
   "execution_count": 23,
   "metadata": {},
   "outputs": [
    {
     "data": {
      "text/latex": [
       "$\\omega^{(\\omega^\\omega*3 + 1)}$"
      ],
      "text/plain": [
       "\\omega^{(\\omega^\\omega*3 + 1)}"
      ]
     },
     "execution_count": 23,
     "metadata": {},
     "output_type": "execute_result"
    }
   ],
   "source": [
    "2 ** o"
   ]
  },
  {
   "cell_type": "code",
   "execution_count": 24,
   "metadata": {},
   "outputs": [
    {
     "data": {
      "text/latex": [
       "$\\omega^{(\\omega^\\omega*3 + \\omega^2 + \\omega*3)}*3 + \\omega^{(\\omega^\\omega*3 + \\omega^2 + \\omega*2 + 1)}$"
      ],
      "text/plain": [
       "\\omega^{(\\omega^\\omega*3 + \\omega^2 + \\omega*3)}*3 + \\omega^{(\\omega^\\omega*3 + \\omega^2 + \\omega*2 + 1)}"
      ]
     },
     "execution_count": 24,
     "metadata": {},
     "output_type": "execute_result"
    }
   ],
   "source": [
    "o ** (o+3)"
   ]
  },
  {
   "cell_type": "code",
   "execution_count": 25,
   "metadata": {},
   "outputs": [
    {
     "data": {
      "text/latex": [
       "$\\omega^3 + \\omega^2*3 + \\omega*3 + 3$"
      ],
      "text/plain": [
       "\\omega^3 + \\omega^2*3 + \\omega*3 + 3"
      ]
     },
     "execution_count": 25,
     "metadata": {},
     "output_type": "execute_result"
    }
   ],
   "source": [
    "(w+3)**3"
   ]
  },
  {
   "cell_type": "code",
   "execution_count": 26,
   "metadata": {},
   "outputs": [
    {
     "data": {
      "text/latex": [
       "$\\omega^3 + \\omega^2*3 + \\omega*3 + 3$"
      ],
      "text/plain": [
       "\\omega^3 + \\omega^2*3 + \\omega*3 + 3"
      ]
     },
     "execution_count": 26,
     "metadata": {},
     "output_type": "execute_result"
    }
   ],
   "source": [
    "Ordinal.Isummation(lambda j: (w+j)**j, Ordinal(4))"
   ]
  },
  {
   "cell_type": "code",
   "execution_count": 27,
   "metadata": {},
   "outputs": [
    {
     "data": {
      "text/latex": [
       "$\\omega^3 + \\omega^2*2 + \\omega*2 + 1$"
      ],
      "text/plain": [
       "\\omega^3 + \\omega^2*2 + \\omega*2 + 1"
      ]
     },
     "execution_count": 27,
     "metadata": {},
     "output_type": "execute_result"
    }
   ],
   "source": [
    "Ordinal.Iproduct(lambda j: (w+j)**j, Ordinal(3))"
   ]
  },
  {
   "cell_type": "code",
   "execution_count": 28,
   "metadata": {},
   "outputs": [],
   "source": [
    "######################## Iz zbirke ######################"
   ]
  },
  {
   "cell_type": "code",
   "execution_count": 29,
   "metadata": {},
   "outputs": [
    {
     "data": {
      "text/latex": [
       "$\\omega^2*7 + \\omega*2$"
      ],
      "text/plain": [
       "\\omega^2*7 + \\omega*2"
      ]
     },
     "execution_count": 29,
     "metadata": {},
     "output_type": "execute_result"
    }
   ],
   "source": [
    "#zadatak 190.\n",
    "Ordinal.Isummation(lambda j: j*w+w*j, w+3)"
   ]
  },
  {
   "cell_type": "code",
   "execution_count": 30,
   "metadata": {},
   "outputs": [
    {
     "data": {
      "text/latex": [
       "$\\omega^2$"
      ],
      "text/plain": [
       "\\omega^2"
      ]
     },
     "execution_count": 30,
     "metadata": {},
     "output_type": "execute_result"
    }
   ],
   "source": [
    "#zadatak 191.\n",
    "Ordinal.Isummation(lambda j: j, w*2)"
   ]
  },
  {
   "cell_type": "code",
   "execution_count": 31,
   "metadata": {},
   "outputs": [
    {
     "data": {
      "text/latex": [
       "$\\omega^3*2 + \\omega^2*3$"
      ],
      "text/plain": [
       "\\omega^3*2 + \\omega^2*3"
      ]
     },
     "execution_count": 31,
     "metadata": {},
     "output_type": "execute_result"
    }
   ],
   "source": [
    "#zadatak 192.\n",
    "Ordinal.Isummation(lambda j: (w+j)*w, w*2+3)"
   ]
  },
  {
   "cell_type": "code",
   "execution_count": 32,
   "metadata": {},
   "outputs": [
    {
     "data": {
      "text/latex": [
       "$\\omega$"
      ],
      "text/plain": [
       "\\omega"
      ]
     },
     "execution_count": 32,
     "metadata": {},
     "output_type": "execute_result"
    }
   ],
   "source": [
    "#zadatak 193.\n",
    "Ordinal.Isummation(lambda j: j**2, w)"
   ]
  },
  {
   "cell_type": "code",
   "execution_count": 33,
   "metadata": {},
   "outputs": [
    {
     "data": {
      "text/latex": [
       "$\\omega^2*4$"
      ],
      "text/plain": [
       "\\omega^2*4"
      ]
     },
     "execution_count": 33,
     "metadata": {},
     "output_type": "execute_result"
    }
   ],
   "source": [
    "#zadatak 195.a\n",
    "Ordinal.Isummation(lambda j: 2+j+2**j, w*2+2)"
   ]
  },
  {
   "cell_type": "code",
   "execution_count": 34,
   "metadata": {},
   "outputs": [
    {
     "data": {
      "text/latex": [
       "$\\omega^4*2$"
      ],
      "text/plain": [
       "\\omega^4*2"
      ]
     },
     "execution_count": 34,
     "metadata": {},
     "output_type": "execute_result"
    }
   ],
   "source": [
    "#zadatak 195.b\n",
    "Ordinal.Isummation(lambda i: i**3+3**i, w*3)"
   ]
  },
  {
   "cell_type": "code",
   "execution_count": 35,
   "metadata": {},
   "outputs": [
    {
     "data": {
      "text/latex": [
       "$\\omega^2*2$"
      ],
      "text/plain": [
       "\\omega^2*2"
      ]
     },
     "execution_count": 35,
     "metadata": {},
     "output_type": "execute_result"
    }
   ],
   "source": [
    "#zadatak 195.c\n",
    "Ordinal.Isummation(lambda i: i + w*2, w*2)"
   ]
  },
  {
   "cell_type": "code",
   "execution_count": 36,
   "metadata": {},
   "outputs": [
    {
     "data": {
      "text/latex": [
       "$\\omega^3$"
      ],
      "text/plain": [
       "\\omega^3"
      ]
     },
     "execution_count": 36,
     "metadata": {},
     "output_type": "execute_result"
    }
   ],
   "source": [
    "#zadatak 195.e\n",
    "Ordinal.Isummation(lambda i: i ** 2, w*2)"
   ]
  },
  {
   "cell_type": "code",
   "execution_count": 37,
   "metadata": {},
   "outputs": [
    {
     "data": {
      "text/latex": [
       "$\\omega^{(\\omega + 4)}$"
      ],
      "text/plain": [
       "\\omega^{(\\omega + 4)}"
      ]
     },
     "execution_count": 37,
     "metadata": {},
     "output_type": "execute_result"
    }
   ],
   "source": [
    "#zadatak 195.f\n",
    "Ordinal.Isummation(lambda i: (w + i) * w ** (i + 2), w + 3)"
   ]
  },
  {
   "cell_type": "code",
   "execution_count": 38,
   "metadata": {},
   "outputs": [
    {
     "data": {
      "text/latex": [
       "$\\omega^2*2$"
      ],
      "text/plain": [
       "\\omega^2*2"
      ]
     },
     "execution_count": 38,
     "metadata": {},
     "output_type": "execute_result"
    }
   ],
   "source": [
    "#zadatak 195.g\n",
    "Ordinal.Isummation(lambda i: w + 2*i, w*2)"
   ]
  },
  {
   "cell_type": "code",
   "execution_count": 39,
   "metadata": {},
   "outputs": [
    {
     "data": {
      "text/latex": [
       "$\\omega^{(\\omega*2)}$"
      ],
      "text/plain": [
       "\\omega^{(\\omega*2)}"
      ]
     },
     "execution_count": 39,
     "metadata": {},
     "output_type": "execute_result"
    }
   ],
   "source": [
    "#zadatak 195.h\n",
    "Ordinal.Isummation(lambda i: (i + 2) ** (w + i), w + 1)"
   ]
  },
  {
   "cell_type": "code",
   "execution_count": 40,
   "metadata": {},
   "outputs": [
    {
     "data": {
      "text/latex": [
       "$\\omega^\\omega*2$"
      ],
      "text/plain": [
       "\\omega^\\omega*2"
      ]
     },
     "execution_count": 40,
     "metadata": {},
     "output_type": "execute_result"
    }
   ],
   "source": [
    "#zadatak 195.i\n",
    "Ordinal.Isummation(lambda j: j**w, w+2)"
   ]
  },
  {
   "cell_type": "code",
   "execution_count": 41,
   "metadata": {},
   "outputs": [
    {
     "data": {
      "text/latex": [
       "$\\omega^2*2$"
      ],
      "text/plain": [
       "\\omega^2*2"
      ]
     },
     "execution_count": 41,
     "metadata": {},
     "output_type": "execute_result"
    }
   ],
   "source": [
    "#zadatak 195.j\n",
    "Ordinal.Isummation(lambda j: w, w*2)"
   ]
  },
  {
   "cell_type": "code",
   "execution_count": 42,
   "metadata": {},
   "outputs": [
    {
     "data": {
      "text/latex": [
       "$\\omega^{(\\omega + 1)}$"
      ],
      "text/plain": [
       "\\omega^{(\\omega + 1)}"
      ]
     },
     "execution_count": 42,
     "metadata": {},
     "output_type": "execute_result"
    }
   ],
   "source": [
    "#zadatak 195.m\n",
    "Ordinal.Isummation(lambda j: w**j, w+2)"
   ]
  },
  {
   "cell_type": "code",
   "execution_count": 43,
   "metadata": {},
   "outputs": [
    {
     "data": {
      "text/latex": [
       "$\\omega^{(\\omega*3 + 2)}*4$"
      ],
      "text/plain": [
       "\\omega^{(\\omega*3 + 2)}*4"
      ]
     },
     "execution_count": 43,
     "metadata": {},
     "output_type": "execute_result"
    }
   ],
   "source": [
    "#zadatak 199.\n",
    "Ordinal.Iproduct(lambda j: j + w, w*3 + 2)"
   ]
  },
  {
   "cell_type": "code",
   "execution_count": 44,
   "metadata": {},
   "outputs": [
    {
     "data": {
      "text/latex": [
       "$\\omega^{(\\omega*2 + 2)} + \\omega^{(\\omega*2 + 1)}*3 + \\omega^{(\\omega*2)}*3$"
      ],
      "text/plain": [
       "\\omega^{(\\omega*2 + 2)} + \\omega^{(\\omega*2 + 1)}*3 + \\omega^{(\\omega*2)}*3"
      ]
     },
     "execution_count": 44,
     "metadata": {},
     "output_type": "execute_result"
    }
   ],
   "source": [
    "#zadatak 200.\n",
    "Ordinal.Iproduct(lambda j: (j + 2) ** (j + 1), w + 2)"
   ]
  },
  {
   "cell_type": "code",
   "execution_count": 45,
   "metadata": {},
   "outputs": [
    {
     "data": {
      "text/latex": [
       "$\\omega^{(\\omega^2)}$"
      ],
      "text/plain": [
       "\\omega^{(\\omega^2)}"
      ]
     },
     "execution_count": 45,
     "metadata": {},
     "output_type": "execute_result"
    }
   ],
   "source": [
    "#zadatak 201.\n",
    "Ordinal.Iproduct(lambda j: w ** (w + j), w)"
   ]
  },
  {
   "cell_type": "code",
   "execution_count": 46,
   "metadata": {},
   "outputs": [
    {
     "data": {
      "text/latex": [
       "$\\omega^{(\\omega + 4)} + \\omega^{(\\omega + 3)}*2$"
      ],
      "text/plain": [
       "\\omega^{(\\omega + 4)} + \\omega^{(\\omega + 3)}*2"
      ]
     },
     "execution_count": 46,
     "metadata": {},
     "output_type": "execute_result"
    }
   ],
   "source": [
    "#zadatak 202.a\n",
    "Ordinal.Iproduct(lambda i: w ** 2 + 2 ** i, w + 2)"
   ]
  },
  {
   "cell_type": "code",
   "execution_count": 47,
   "metadata": {},
   "outputs": [
    {
     "data": {
      "text/latex": [
       "$\\omega^{(\\omega + 6)}*2$"
      ],
      "text/plain": [
       "\\omega^{(\\omega + 6)}*2"
      ]
     },
     "execution_count": 47,
     "metadata": {},
     "output_type": "execute_result"
    }
   ],
   "source": [
    "#zadatak 202.b\n",
    "Ordinal.Iproduct(lambda i: (2*i + w) ** 2, w + 3)"
   ]
  },
  {
   "cell_type": "code",
   "execution_count": 48,
   "metadata": {},
   "outputs": [
    {
     "data": {
      "text/latex": [
       "$\\omega^{(\\omega + 2)}*4 + \\omega^{(\\omega + 1)}*4$"
      ],
      "text/plain": [
       "\\omega^{(\\omega + 2)}*4 + \\omega^{(\\omega + 1)}*4"
      ]
     },
     "execution_count": 48,
     "metadata": {},
     "output_type": "execute_result"
    }
   ],
   "source": [
    "#zadatak 202.c\n",
    "Ordinal.Iproduct(lambda i: i + w*2 + i, w + 2)"
   ]
  },
  {
   "cell_type": "code",
   "execution_count": 49,
   "metadata": {},
   "outputs": [
    {
     "data": {
      "text/latex": [
       "$\\omega^{(\\omega*2)}$"
      ],
      "text/plain": [
       "\\omega^{(\\omega*2)}"
      ]
     },
     "execution_count": 49,
     "metadata": {},
     "output_type": "execute_result"
    }
   ],
   "source": [
    "\n",
    "Ordinal.Iproduct(lambda i: 2 ** i + w, w*2)"
   ]
  },
  {
   "cell_type": "code",
   "execution_count": 50,
   "metadata": {},
   "outputs": [
    {
     "data": {
      "text/latex": [
       "$\\omega^{(\\omega^2)}$"
      ],
      "text/plain": [
       "\\omega^{(\\omega^2)}"
      ]
     },
     "execution_count": 50,
     "metadata": {},
     "output_type": "execute_result"
    }
   ],
   "source": [
    "#zadatak 209.a\n",
    "3 ** Ordinal.Isummation(lambda i: 3**i, w*3)"
   ]
  },
  {
   "cell_type": "code",
   "execution_count": 51,
   "metadata": {},
   "outputs": [
    {
     "data": {
      "text/latex": [
       "$\\omega^3 + \\omega^2*2 + \\omega$"
      ],
      "text/plain": [
       "\\omega^3 + \\omega^2*2 + \\omega"
      ]
     },
     "execution_count": 51,
     "metadata": {},
     "output_type": "execute_result"
    }
   ],
   "source": [
    "#zadatak 209.b\n",
    "2*w*(w+1)*(w+2)"
   ]
  },
  {
   "cell_type": "code",
   "execution_count": 52,
   "metadata": {},
   "outputs": [
    {
     "data": {
      "text/latex": [
       "$\\omega^\\omega$"
      ],
      "text/plain": [
       "\\omega^\\omega"
      ]
     },
     "execution_count": 52,
     "metadata": {},
     "output_type": "execute_result"
    }
   ],
   "source": [
    "(w+1) ** w"
   ]
  },
  {
   "cell_type": "code",
   "execution_count": null,
   "metadata": {},
   "outputs": [],
   "source": []
  }
 ],
 "metadata": {
  "kernelspec": {
   "display_name": "Python 3",
   "language": "python",
   "name": "python3"
  },
  "language_info": {
   "codemirror_mode": {
    "name": "ipython",
    "version": 3
   },
   "file_extension": ".py",
   "mimetype": "text/x-python",
   "name": "python",
   "nbconvert_exporter": "python",
   "pygments_lexer": "ipython3",
   "version": "3.7.1"
  }
 },
 "nbformat": 4,
 "nbformat_minor": 2
}
